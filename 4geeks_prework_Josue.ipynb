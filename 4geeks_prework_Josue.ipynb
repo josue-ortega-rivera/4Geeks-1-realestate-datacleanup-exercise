{
  "cells": [
    {
      "cell_type": "markdown",
      "id": "innocent-university",
      "metadata": {
        "id": "innocent-university"
      },
      "source": [
        "# Real Estate Clean up\n",
        "\n",
        "This is a real dataset, and it was downloaded using web scraping techniques. The data contains registers from **Fotocasa** which is one of the most popular real estate websites in Spain. Please, do not do this (web scraping) unless it is for academic purposes.\n",
        "\n",
        "The dataset was downloaded a few years ago by Henry Navarro, and in no case were economic returns obtained from it.\n",
        "\n",
        "It contains thousands of data from real houses published on the web www.fotocasa.com. Your goal is to extract as much information as possible with the knowledge you have so far about data science, for example what is the most expensive house in the entire dataset?\n",
        "\n",
        "Let's start with precisely that question... Good luck!"
      ]
    },
    {
      "cell_type": "markdown",
      "id": "multiple-glass",
      "metadata": {
        "id": "multiple-glass"
      },
      "source": [
        "#### Exercise 00. Read the dataset assets/real_estate.csv and try to visualize the table (★☆☆)"
      ]
    },
    {
      "cell_type": "code",
      "execution_count": 39,
      "id": "frank-heath",
      "metadata": {
        "colab": {
          "base_uri": "https://localhost:8080/",
          "height": 652
        },
        "id": "frank-heath",
        "outputId": "cc560711-2f46-4972-8933-20947a05c44e"
      },
      "outputs": [
        {
          "data": {
            "text/html": [
              "<div>\n",
              "<style scoped>\n",
              "    .dataframe tbody tr th:only-of-type {\n",
              "        vertical-align: middle;\n",
              "    }\n",
              "\n",
              "    .dataframe tbody tr th {\n",
              "        vertical-align: top;\n",
              "    }\n",
              "\n",
              "    .dataframe thead th {\n",
              "        text-align: right;\n",
              "    }\n",
              "</style>\n",
              "<table border=\"1\" class=\"dataframe\">\n",
              "  <thead>\n",
              "    <tr style=\"text-align: right;\">\n",
              "      <th></th>\n",
              "      <th>Unnamed: 0</th>\n",
              "      <th>id_realEstates</th>\n",
              "      <th>isNew</th>\n",
              "      <th>realEstate_name</th>\n",
              "      <th>phone_realEstate</th>\n",
              "      <th>url_inmueble</th>\n",
              "      <th>rooms</th>\n",
              "      <th>bathrooms</th>\n",
              "      <th>surface</th>\n",
              "      <th>price</th>\n",
              "      <th>...</th>\n",
              "      <th>level4Id</th>\n",
              "      <th>level5Id</th>\n",
              "      <th>level6Id</th>\n",
              "      <th>level7Id</th>\n",
              "      <th>level8Id</th>\n",
              "      <th>accuracy</th>\n",
              "      <th>latitude</th>\n",
              "      <th>longitude</th>\n",
              "      <th>zipCode</th>\n",
              "      <th>customZone</th>\n",
              "    </tr>\n",
              "  </thead>\n",
              "  <tbody>\n",
              "    <tr>\n",
              "      <th>0</th>\n",
              "      <td>1</td>\n",
              "      <td>153771986</td>\n",
              "      <td>False</td>\n",
              "      <td>ferrari 57 inmobiliaria</td>\n",
              "      <td>912177526.0</td>\n",
              "      <td>https://www.fotocasa.es/es/comprar/vivienda/ma...</td>\n",
              "      <td>3.0</td>\n",
              "      <td>2.0</td>\n",
              "      <td>103.0</td>\n",
              "      <td>195000</td>\n",
              "      <td>...</td>\n",
              "      <td>0</td>\n",
              "      <td>0</td>\n",
              "      <td>0</td>\n",
              "      <td>0</td>\n",
              "      <td>0</td>\n",
              "      <td>0</td>\n",
              "      <td>40,2948276786438</td>\n",
              "      <td>-3,44402412135624</td>\n",
              "      <td>NaN</td>\n",
              "      <td>NaN</td>\n",
              "    </tr>\n",
              "    <tr>\n",
              "      <th>1</th>\n",
              "      <td>2</td>\n",
              "      <td>153867863</td>\n",
              "      <td>False</td>\n",
              "      <td>tecnocasa fuenlabrada ferrocarril</td>\n",
              "      <td>916358736.0</td>\n",
              "      <td>https://www.fotocasa.es/es/comprar/vivienda/ma...</td>\n",
              "      <td>3.0</td>\n",
              "      <td>1.0</td>\n",
              "      <td>NaN</td>\n",
              "      <td>89000</td>\n",
              "      <td>...</td>\n",
              "      <td>0</td>\n",
              "      <td>0</td>\n",
              "      <td>0</td>\n",
              "      <td>0</td>\n",
              "      <td>0</td>\n",
              "      <td>1</td>\n",
              "      <td>40,28674</td>\n",
              "      <td>-3,79351</td>\n",
              "      <td>NaN</td>\n",
              "      <td>NaN</td>\n",
              "    </tr>\n",
              "    <tr>\n",
              "      <th>2</th>\n",
              "      <td>3</td>\n",
              "      <td>153430440</td>\n",
              "      <td>False</td>\n",
              "      <td>look find boadilla</td>\n",
              "      <td>916350408.0</td>\n",
              "      <td>https://www.fotocasa.es/es/comprar/vivienda/ma...</td>\n",
              "      <td>2.0</td>\n",
              "      <td>2.0</td>\n",
              "      <td>99.0</td>\n",
              "      <td>390000</td>\n",
              "      <td>...</td>\n",
              "      <td>0</td>\n",
              "      <td>0</td>\n",
              "      <td>0</td>\n",
              "      <td>0</td>\n",
              "      <td>0</td>\n",
              "      <td>0</td>\n",
              "      <td>40,4115646786438</td>\n",
              "      <td>-3,90662252135624</td>\n",
              "      <td>NaN</td>\n",
              "      <td>NaN</td>\n",
              "    </tr>\n",
              "    <tr>\n",
              "      <th>3</th>\n",
              "      <td>4</td>\n",
              "      <td>152776331</td>\n",
              "      <td>False</td>\n",
              "      <td>tecnocasa fuenlabrada ferrocarril</td>\n",
              "      <td>916358736.0</td>\n",
              "      <td>https://www.fotocasa.es/es/comprar/vivienda/ma...</td>\n",
              "      <td>3.0</td>\n",
              "      <td>1.0</td>\n",
              "      <td>86.0</td>\n",
              "      <td>89000</td>\n",
              "      <td>...</td>\n",
              "      <td>0</td>\n",
              "      <td>0</td>\n",
              "      <td>0</td>\n",
              "      <td>0</td>\n",
              "      <td>0</td>\n",
              "      <td>0</td>\n",
              "      <td>40,2853785786438</td>\n",
              "      <td>-3,79508142135624</td>\n",
              "      <td>NaN</td>\n",
              "      <td>NaN</td>\n",
              "    </tr>\n",
              "    <tr>\n",
              "      <th>4</th>\n",
              "      <td>5</td>\n",
              "      <td>153180188</td>\n",
              "      <td>False</td>\n",
              "      <td>ferrari 57 inmobiliaria</td>\n",
              "      <td>912177526.0</td>\n",
              "      <td>https://www.fotocasa.es/es/comprar/vivienda/ma...</td>\n",
              "      <td>2.0</td>\n",
              "      <td>2.0</td>\n",
              "      <td>106.0</td>\n",
              "      <td>172000</td>\n",
              "      <td>...</td>\n",
              "      <td>0</td>\n",
              "      <td>0</td>\n",
              "      <td>0</td>\n",
              "      <td>0</td>\n",
              "      <td>0</td>\n",
              "      <td>0</td>\n",
              "      <td>40,2998774864376</td>\n",
              "      <td>-3,45226301356237</td>\n",
              "      <td>NaN</td>\n",
              "      <td>NaN</td>\n",
              "    </tr>\n",
              "    <tr>\n",
              "      <th>...</th>\n",
              "      <td>...</td>\n",
              "      <td>...</td>\n",
              "      <td>...</td>\n",
              "      <td>...</td>\n",
              "      <td>...</td>\n",
              "      <td>...</td>\n",
              "      <td>...</td>\n",
              "      <td>...</td>\n",
              "      <td>...</td>\n",
              "      <td>...</td>\n",
              "      <td>...</td>\n",
              "      <td>...</td>\n",
              "      <td>...</td>\n",
              "      <td>...</td>\n",
              "      <td>...</td>\n",
              "      <td>...</td>\n",
              "      <td>...</td>\n",
              "      <td>...</td>\n",
              "      <td>...</td>\n",
              "      <td>...</td>\n",
              "      <td>...</td>\n",
              "    </tr>\n",
              "    <tr>\n",
              "      <th>15330</th>\n",
              "      <td>15331</td>\n",
              "      <td>153901377</td>\n",
              "      <td>False</td>\n",
              "      <td>infocasa consulting</td>\n",
              "      <td>911360461.0</td>\n",
              "      <td>https://www.fotocasa.es/es/comprar/vivienda/ma...</td>\n",
              "      <td>2.0</td>\n",
              "      <td>1.0</td>\n",
              "      <td>96.0</td>\n",
              "      <td>259470</td>\n",
              "      <td>...</td>\n",
              "      <td>0</td>\n",
              "      <td>0</td>\n",
              "      <td>0</td>\n",
              "      <td>0</td>\n",
              "      <td>0</td>\n",
              "      <td>0</td>\n",
              "      <td>40,45416</td>\n",
              "      <td>-3,70286</td>\n",
              "      <td>NaN</td>\n",
              "      <td>NaN</td>\n",
              "    </tr>\n",
              "    <tr>\n",
              "      <th>15331</th>\n",
              "      <td>15332</td>\n",
              "      <td>150394373</td>\n",
              "      <td>False</td>\n",
              "      <td>inmobiliaria pulpon</td>\n",
              "      <td>912788039.0</td>\n",
              "      <td>https://www.fotocasa.es/es/comprar/vivienda/ma...</td>\n",
              "      <td>3.0</td>\n",
              "      <td>1.0</td>\n",
              "      <td>150.0</td>\n",
              "      <td>165000</td>\n",
              "      <td>...</td>\n",
              "      <td>0</td>\n",
              "      <td>0</td>\n",
              "      <td>0</td>\n",
              "      <td>0</td>\n",
              "      <td>0</td>\n",
              "      <td>0</td>\n",
              "      <td>40,36652</td>\n",
              "      <td>-3,48951</td>\n",
              "      <td>NaN</td>\n",
              "      <td>NaN</td>\n",
              "    </tr>\n",
              "    <tr>\n",
              "      <th>15332</th>\n",
              "      <td>15333</td>\n",
              "      <td>153901397</td>\n",
              "      <td>False</td>\n",
              "      <td>tecnocasa torrelodones</td>\n",
              "      <td>912780348.0</td>\n",
              "      <td>https://www.fotocasa.es/es/comprar/vivienda/ma...</td>\n",
              "      <td>4.0</td>\n",
              "      <td>2.0</td>\n",
              "      <td>175.0</td>\n",
              "      <td>495000</td>\n",
              "      <td>...</td>\n",
              "      <td>0</td>\n",
              "      <td>0</td>\n",
              "      <td>0</td>\n",
              "      <td>0</td>\n",
              "      <td>0</td>\n",
              "      <td>0</td>\n",
              "      <td>40,57444</td>\n",
              "      <td>-3,92124</td>\n",
              "      <td>NaN</td>\n",
              "      <td>NaN</td>\n",
              "    </tr>\n",
              "    <tr>\n",
              "      <th>15333</th>\n",
              "      <td>15334</td>\n",
              "      <td>152607440</td>\n",
              "      <td>False</td>\n",
              "      <td>inmobiliaria pulpon</td>\n",
              "      <td>912788039.0</td>\n",
              "      <td>https://www.fotocasa.es/es/comprar/vivienda/ma...</td>\n",
              "      <td>3.0</td>\n",
              "      <td>2.0</td>\n",
              "      <td>101.0</td>\n",
              "      <td>195000</td>\n",
              "      <td>...</td>\n",
              "      <td>0</td>\n",
              "      <td>0</td>\n",
              "      <td>0</td>\n",
              "      <td>0</td>\n",
              "      <td>0</td>\n",
              "      <td>0</td>\n",
              "      <td>40,36967</td>\n",
              "      <td>-3,48105</td>\n",
              "      <td>NaN</td>\n",
              "      <td>NaN</td>\n",
              "    </tr>\n",
              "    <tr>\n",
              "      <th>15334</th>\n",
              "      <td>15335</td>\n",
              "      <td>153901356</td>\n",
              "      <td>False</td>\n",
              "      <td>infocasa consulting</td>\n",
              "      <td>911360461.0</td>\n",
              "      <td>https://www.fotocasa.es/es/comprar/vivienda/ma...</td>\n",
              "      <td>3.0</td>\n",
              "      <td>2.0</td>\n",
              "      <td>152.0</td>\n",
              "      <td>765000</td>\n",
              "      <td>...</td>\n",
              "      <td>0</td>\n",
              "      <td>0</td>\n",
              "      <td>0</td>\n",
              "      <td>0</td>\n",
              "      <td>0</td>\n",
              "      <td>0</td>\n",
              "      <td>40,45773</td>\n",
              "      <td>-3,69068</td>\n",
              "      <td>NaN</td>\n",
              "      <td>NaN</td>\n",
              "    </tr>\n",
              "  </tbody>\n",
              "</table>\n",
              "<p>15335 rows × 37 columns</p>\n",
              "</div>"
            ],
            "text/plain": [
              "       Unnamed: 0  id_realEstates  isNew                    realEstate_name  \\\n",
              "0               1       153771986  False            ferrari 57 inmobiliaria   \n",
              "1               2       153867863  False  tecnocasa fuenlabrada ferrocarril   \n",
              "2               3       153430440  False                 look find boadilla   \n",
              "3               4       152776331  False  tecnocasa fuenlabrada ferrocarril   \n",
              "4               5       153180188  False            ferrari 57 inmobiliaria   \n",
              "...           ...             ...    ...                                ...   \n",
              "15330       15331       153901377  False                infocasa consulting   \n",
              "15331       15332       150394373  False                inmobiliaria pulpon   \n",
              "15332       15333       153901397  False             tecnocasa torrelodones   \n",
              "15333       15334       152607440  False                inmobiliaria pulpon   \n",
              "15334       15335       153901356  False                infocasa consulting   \n",
              "\n",
              "       phone_realEstate                                       url_inmueble  \\\n",
              "0           912177526.0  https://www.fotocasa.es/es/comprar/vivienda/ma...   \n",
              "1           916358736.0  https://www.fotocasa.es/es/comprar/vivienda/ma...   \n",
              "2           916350408.0  https://www.fotocasa.es/es/comprar/vivienda/ma...   \n",
              "3           916358736.0  https://www.fotocasa.es/es/comprar/vivienda/ma...   \n",
              "4           912177526.0  https://www.fotocasa.es/es/comprar/vivienda/ma...   \n",
              "...                 ...                                                ...   \n",
              "15330       911360461.0  https://www.fotocasa.es/es/comprar/vivienda/ma...   \n",
              "15331       912788039.0  https://www.fotocasa.es/es/comprar/vivienda/ma...   \n",
              "15332       912780348.0  https://www.fotocasa.es/es/comprar/vivienda/ma...   \n",
              "15333       912788039.0  https://www.fotocasa.es/es/comprar/vivienda/ma...   \n",
              "15334       911360461.0  https://www.fotocasa.es/es/comprar/vivienda/ma...   \n",
              "\n",
              "       rooms  bathrooms  surface   price  ... level4Id level5Id level6Id  \\\n",
              "0        3.0        2.0    103.0  195000  ...        0        0        0   \n",
              "1        3.0        1.0      NaN   89000  ...        0        0        0   \n",
              "2        2.0        2.0     99.0  390000  ...        0        0        0   \n",
              "3        3.0        1.0     86.0   89000  ...        0        0        0   \n",
              "4        2.0        2.0    106.0  172000  ...        0        0        0   \n",
              "...      ...        ...      ...     ...  ...      ...      ...      ...   \n",
              "15330    2.0        1.0     96.0  259470  ...        0        0        0   \n",
              "15331    3.0        1.0    150.0  165000  ...        0        0        0   \n",
              "15332    4.0        2.0    175.0  495000  ...        0        0        0   \n",
              "15333    3.0        2.0    101.0  195000  ...        0        0        0   \n",
              "15334    3.0        2.0    152.0  765000  ...        0        0        0   \n",
              "\n",
              "      level7Id level8Id accuracy          latitude          longitude zipCode  \\\n",
              "0            0        0        0  40,2948276786438  -3,44402412135624     NaN   \n",
              "1            0        0        1          40,28674           -3,79351     NaN   \n",
              "2            0        0        0  40,4115646786438  -3,90662252135624     NaN   \n",
              "3            0        0        0  40,2853785786438  -3,79508142135624     NaN   \n",
              "4            0        0        0  40,2998774864376  -3,45226301356237     NaN   \n",
              "...        ...      ...      ...               ...                ...     ...   \n",
              "15330        0        0        0          40,45416           -3,70286     NaN   \n",
              "15331        0        0        0          40,36652           -3,48951     NaN   \n",
              "15332        0        0        0          40,57444           -3,92124     NaN   \n",
              "15333        0        0        0          40,36967           -3,48105     NaN   \n",
              "15334        0        0        0          40,45773           -3,69068     NaN   \n",
              "\n",
              "      customZone  \n",
              "0            NaN  \n",
              "1            NaN  \n",
              "2            NaN  \n",
              "3            NaN  \n",
              "4            NaN  \n",
              "...          ...  \n",
              "15330        NaN  \n",
              "15331        NaN  \n",
              "15332        NaN  \n",
              "15333        NaN  \n",
              "15334        NaN  \n",
              "\n",
              "[15335 rows x 37 columns]"
            ]
          },
          "execution_count": 39,
          "metadata": {},
          "output_type": "execute_result"
        }
      ],
      "source": [
        "import pandas as pd\n",
        "\n",
        "# This CSV file contains semicolons instead of comas as separator\n",
        "ds = pd.read_csv('assets/real_estate.csv', sep=';')\n",
        "#ds = pd.read_csv('real_estate.csv', sep=';')\n",
        "ds"
      ]
    },
    {
      "cell_type": "markdown",
      "id": "latin-guest",
      "metadata": {
        "id": "latin-guest"
      },
      "source": [
        "#### Exercise 01. Which is the most expensive house in the dataset? (★☆☆)\n",
        "\n",
        "Print the address and the price of the selected house. For example:\n",
        "\n",
        "`The house with address General Street Nº5 is the most expensive and its price is 5000000 USD`"
      ]
    },
    {
      "cell_type": "code",
      "execution_count": 40,
      "id": "-rH43K6bnbe7",
      "metadata": {
        "colab": {
          "base_uri": "https://localhost:8080/"
        },
        "id": "-rH43K6bnbe7",
        "outputId": "f8f784cb-1892-4b59-a57a-2ad6a89fe714"
      },
      "outputs": [
        {
          "name": "stdout",
          "output_type": "stream",
          "text": [
            "Index(['Unnamed: 0', 'id_realEstates', 'isNew', 'realEstate_name',\n",
            "       'phone_realEstate', 'url_inmueble', 'rooms', 'bathrooms', 'surface',\n",
            "       'price', 'date', 'description', 'address', 'country', 'level1',\n",
            "       'level2', 'level3', 'level4', 'level5', 'level6', 'level7', 'level8',\n",
            "       'upperLevel', 'countryId', 'level1Id', 'level2Id', 'level3Id',\n",
            "       'level4Id', 'level5Id', 'level6Id', 'level7Id', 'level8Id', 'accuracy',\n",
            "       'latitude', 'longitude', 'zipCode', 'customZone'],\n",
            "      dtype='object')\n",
            "La casa mas cara es: 8500000\n",
            "Direccion: El Escorial\n"
          ]
        }
      ],
      "source": [
        "# TODO\n",
        "print(ds.columns)  #nombre de las columnas\n",
        "most_expensive=ds['price'].max()\n",
        "\n",
        "print(f\"La casa mas cara es: {most_expensive}\")\n",
        "\n",
        "max_index = ds['price'].idxmax()  #indice de la casa más cara\n",
        "print(\"Direccion:\", ds.loc[max_index, 'address'])\n",
        "\n"
      ]
    },
    {
      "cell_type": "markdown",
      "id": "lesser-cosmetic",
      "metadata": {
        "id": "lesser-cosmetic"
      },
      "source": [
        "#### Exercise 02. Which is the cheapest house in the dataset? (★☆☆)\n",
        "\n",
        "Print the address and the price of the selected house. For example:\n",
        "\n",
        "`The house with address Concrete Street Nº1 is the cheapest and its price is 12000 USD`"
      ]
    },
    {
      "cell_type": "code",
      "execution_count": 41,
      "id": "lovely-oasis",
      "metadata": {
        "colab": {
          "base_uri": "https://localhost:8080/"
        },
        "id": "lovely-oasis",
        "outputId": "526c638f-d792-4cee-8aef-5e35a58cfd2a"
      },
      "outputs": [
        {
          "name": "stdout",
          "output_type": "stream",
          "text": [
            "La casa mas barata es: 0\n",
            "Direccion: Parla\n"
          ]
        }
      ],
      "source": [
        "# TODO\n",
        "cheapest =ds['price'].min()\n",
        "\n",
        "print(f\"La casa mas barata es: {cheapest}\")\n",
        "\n",
        "min_index = ds['price'].idxmin()  #indice de la casa más barata\n",
        "print(\"Direccion:\", ds.loc[min_index, 'address'])\n",
        "\n",
        "#print(ds.nsmallest(20, 'price')) # Returns the  rows with smallest values in column 'A'   #Los valores minimos de price\n"
      ]
    },
    {
      "cell_type": "markdown",
      "id": "compliant-fellowship",
      "metadata": {
        "id": "compliant-fellowship"
      },
      "source": [
        "#### Exercise 03. Which is the biggest and the smallest house in the dataset? (★☆☆)\n",
        "\n",
        "Print both the address and the surface of the selected houses. For example:\n",
        "\n",
        "`The biggest house is located on Yukka Street Nº10 and its surface is 5000 meters`\n",
        "\n",
        "`The smallest house is located on County Road 1 N and its surface is 200 meters`"
      ]
    },
    {
      "cell_type": "code",
      "execution_count": 42,
      "id": "every-tiffany",
      "metadata": {
        "colab": {
          "base_uri": "https://localhost:8080/"
        },
        "id": "every-tiffany",
        "outputId": "e83e1bea-b8b3-4d4f-b92a-700eddbd8a41"
      },
      "outputs": [
        {
          "name": "stdout",
          "output_type": "stream",
          "text": [
            "Index(['Unnamed: 0', 'id_realEstates', 'isNew', 'realEstate_name',\n",
            "       'phone_realEstate', 'url_inmueble', 'rooms', 'bathrooms', 'surface',\n",
            "       'price', 'date', 'description', 'address', 'country', 'level1',\n",
            "       'level2', 'level3', 'level4', 'level5', 'level6', 'level7', 'level8',\n",
            "       'upperLevel', 'countryId', 'level1Id', 'level2Id', 'level3Id',\n",
            "       'level4Id', 'level5Id', 'level6Id', 'level7Id', 'level8Id', 'accuracy',\n",
            "       'latitude', 'longitude', 'zipCode', 'customZone'],\n",
            "      dtype='object')\n",
            "La casa mas cara es: 8500000\n",
            "Direccion: El Escorial\n"
          ]
        }
      ],
      "source": [
        "# TODO\n",
        "print(ds.columns)  #nombre de las columnas\n",
        "\n",
        "most_expensive=ds['price'].max()\n",
        "\n",
        "print(f\"La casa mas cara es: {most_expensive}\")\n",
        "\n",
        "max_index = ds['price'].idxmax()  #indice de la casa más cara\n",
        "print(\"Direccion:\", ds.loc[max_index, 'address'])"
      ]
    },
    {
      "cell_type": "markdown",
      "id": "danish-spirit",
      "metadata": {
        "id": "danish-spirit"
      },
      "source": [
        "#### Exercise 04. How many populations (level5 column) the dataset contains? (★☆☆)\n",
        "\n",
        "Print the names of the populations with a comma as a separator. For example:\n",
        "\n",
        "`> print(populations)`\n",
        "\n",
        "`population1, population2, population3, ...`"
      ]
    },
    {
      "cell_type": "code",
      "execution_count": 43,
      "id": "exciting-accreditation",
      "metadata": {
        "colab": {
          "base_uri": "https://localhost:8080/"
        },
        "id": "exciting-accreditation",
        "outputId": "d66d31c7-5a61-4af2-fa47-a1dbf409ccef"
      },
      "outputs": [
        {
          "name": "stdout",
          "output_type": "stream",
          "text": [
            "Arganda del Rey, Fuenlabrada, Boadilla del Monte, Las Rozas de Madrid,  Madrid Capital, Villaviciosa de Odón, Pinto, Valdemoro, Navalcarnero, Pozuelo de Alarcón, Torrejón de Ardoz, Navalagamella, San Sebastián de los Reyes, Rivas-vaciamadrid, Alpedrete, Móstoles, San Fernando de Henares, Coslada, Becerril de la Sierra, Alcalá de Henares, Chinchón, Parla, Alcorcón, El Escorial, Leganés, Pedrezuela, Majadahonda, Villanueva de la Cañada, Villanueva del Pardillo, Torrelodones, Moralzarzal, Mejorada del Campo, Aranjuez, Corpa, Getafe, Velilla de San Antonio, Sevilla la Nueva, San Martín de la Vega, Villalbilla, Collado Villalba, Alcobendas, El Molar (Madrid), Moraleja de Enmedio, Algete, Campo Real, Torrejón de la Calzada, Colmenar Viejo, Valdemorillo, Fuente El Saz de Jarama, Tres Cantos, Arroyomolinos (Madrid), Griñón, Paracuellos de Jarama, Guadarrama, Titulcia, Galapagar, Collado Mediano, Los Molinos, San Lorenzo de El Escorial, Loeches, San Martín de Valdeiglesias, Navas del Rey, Bustarviejo, Manzanares El Real, Carabaña, Casarrubuelos, Cercedilla, Fresnedillas de la Oliva, Valdemaqueda, Robledo de Chavela, Miraflores de la Sierra, Humanes de Madrid, Valdetorres de Jarama, San Agustín del Guadalix, Ciempozuelos, Camarma de Esteruelas, Torres de la Alameda, Talamanca de Jarama, El Atazar, Hoyo de Manzanares, El Boalo - Cerceda – Mataelpino, El Álamo, Valdilecha, Valdeolmos-Alalpardo, Guadalix de la Sierra, Belmonte de Tajo, El Vellón, Brunete, Redueña, Morata de Tajuña, Tielmes, Gargantilla del Lozoya, Meco, Venturada, Quijorna, Cenicientos, Torrejón de Velasco, Navacerrada, Santa María de la Alameda, Orusco de Tajuña, Daganzo de Arriba, Villamanta, Anchuelo, Valdaracete, Ajalvir, Los Santos de la Humosa, Villamanrique de Tajo, Colmenar de Oreja, Villa del Prado, Fuentidueña de Tajo, Colmenar del Arroyo, Valdelaguna, Cubas de la Sagra, Valdeavero, Aldea del Fresno, Ribatejada, Torrelaguna, Batres, Pezuela de las Torres, Colmenarejo, Serranillos del Valle, Cobeña, Soto del Real, El Berrueco, Villanueva de Perales, Fresno de Torote - Serracines, Pozuelo del Rey, Pelayos de la Presa, La Cabrera, Nuevo Baztán, Perales de Tajuña, Villaconejos, Villarejo de Salvanés, Cadalso de los Vidrios, Santorcaz, Madarcos, Garganta de los Montes, Puentes Viejas, Torremocha de Jarama, Valdemanco, Braojos, Lozoyuela-navas-sieteiglesias, Piñuécar-gandullas, Valdepiélagos, Valverde de Alcalá, Villar del Olmo, Villamantilla, Horcajo de la Sierra, Gascones, Zarzalejo, Villavieja del Lozoya, Brea de Tajo, Estremera, Chapinería, Navarredonda, Patones, Ambite, Navalafuente, Lozoya, Canencia, Cabanillas de la Sierra, Buitrago del Lozoya, Fresno de Torote, Robregordo, Pinilla del Valle, Rascafría, La Hiruela, Montejo de la Sierra\n"
          ]
        }
      ],
      "source": [
        "# TODO\n",
        "#print(len(pop))\n",
        "pop = ds['level5'].dropna().unique()\n",
        "print(\", \".join(pop))\n"
      ]
    },
    {
      "cell_type": "markdown",
      "id": "crazy-blame",
      "metadata": {
        "id": "crazy-blame"
      },
      "source": [
        "#### Exercise 05. Does the dataset contain NAs? (★☆☆)\n",
        "\n",
        "Print a boolean value (`True` or `False`) followed by the rows/cols that contains NAs."
      ]
    },
    {
      "cell_type": "code",
      "execution_count": 44,
      "id": "transparent-poetry",
      "metadata": {
        "colab": {
          "base_uri": "https://localhost:8080/"
        },
        "id": "transparent-poetry",
        "outputId": "c6997cbd-7bf6-4fea-e92a-32ee0631c523"
      },
      "outputs": [
        {
          "name": "stdout",
          "output_type": "stream",
          "text": [
            "       Unnamed: 0  id_realEstates  isNew  realEstate_name  phone_realEstate  \\\n",
            "0           False           False  False            False             False   \n",
            "1           False           False  False            False             False   \n",
            "2           False           False  False            False             False   \n",
            "3           False           False  False            False             False   \n",
            "4           False           False  False            False             False   \n",
            "...           ...             ...    ...              ...               ...   \n",
            "15330       False           False  False            False             False   \n",
            "15331       False           False  False            False             False   \n",
            "15332       False           False  False            False             False   \n",
            "15333       False           False  False            False             False   \n",
            "15334       False           False  False            False             False   \n",
            "\n",
            "       url_inmueble  rooms  bathrooms  surface  price  ...  level4Id  \\\n",
            "0             False  False      False    False  False  ...     False   \n",
            "1             False  False      False     True  False  ...     False   \n",
            "2             False  False      False    False  False  ...     False   \n",
            "3             False  False      False    False  False  ...     False   \n",
            "4             False  False      False    False  False  ...     False   \n",
            "...             ...    ...        ...      ...    ...  ...       ...   \n",
            "15330         False  False      False    False  False  ...     False   \n",
            "15331         False  False      False    False  False  ...     False   \n",
            "15332         False  False      False    False  False  ...     False   \n",
            "15333         False  False      False    False  False  ...     False   \n",
            "15334         False  False      False    False  False  ...     False   \n",
            "\n",
            "       level5Id  level6Id  level7Id  level8Id  accuracy  latitude  longitude  \\\n",
            "0         False     False     False     False     False     False      False   \n",
            "1         False     False     False     False     False     False      False   \n",
            "2         False     False     False     False     False     False      False   \n",
            "3         False     False     False     False     False     False      False   \n",
            "4         False     False     False     False     False     False      False   \n",
            "...         ...       ...       ...       ...       ...       ...        ...   \n",
            "15330     False     False     False     False     False     False      False   \n",
            "15331     False     False     False     False     False     False      False   \n",
            "15332     False     False     False     False     False     False      False   \n",
            "15333     False     False     False     False     False     False      False   \n",
            "15334     False     False     False     False     False     False      False   \n",
            "\n",
            "       zipCode  customZone  \n",
            "0         True        True  \n",
            "1         True        True  \n",
            "2         True        True  \n",
            "3         True        True  \n",
            "4         True        True  \n",
            "...        ...         ...  \n",
            "15330     True        True  \n",
            "15331     True        True  \n",
            "15332     True        True  \n",
            "15333     True        True  \n",
            "15334     True        True  \n",
            "\n",
            "[15335 rows x 37 columns]\n"
          ]
        }
      ],
      "source": [
        "# TODO\n",
        "\n",
        "nan_values = ds.isna()#se agrega .sum() en caso de contar los valores\n",
        "print(nan_values)\n",
        "\n",
        "#null_values=ds.isnull().sum()    #Otro metodo\n",
        "#print(null_values)"
      ]
    },
    {
      "cell_type": "markdown",
      "id": "italic-hydrogen",
      "metadata": {
        "id": "italic-hydrogen"
      },
      "source": [
        "#### Exercise 06. Delete the NAs of the dataset, if applicable (★★☆)\n",
        "\n",
        "Print a comparison between the dimensions of the original DataFrame versus the DataFrame after the deletions."
      ]
    },
    {
      "cell_type": "code",
      "execution_count": 45,
      "id": "administrative-roads",
      "metadata": {
        "colab": {
          "base_uri": "https://localhost:8080/"
        },
        "id": "administrative-roads",
        "outputId": "731702e2-a975-4279-a429-5ec9a8eb351e"
      },
      "outputs": [
        {
          "name": "stdout",
          "output_type": "stream",
          "text": [
            "Dimensiones antes de eliminar los valores NAs: (15335, 37)\n",
            "Dimensiones después de eliminar los valores NAs de la base de datos: (0, 37)\n"
          ]
        }
      ],
      "source": [
        "# TODO\n",
        "# Dimensiones antes de eliminar NAs\n",
        "print(\"Dimensiones antes de eliminar los valores NAs:\", ds.shape)\n",
        "\n",
        "# Eliminar filas con NAs\n",
        "cleaned_ds = ds.dropna()\n",
        "\n",
        "# Dimensiones después de eliminar NAs\n",
        "print(\"Dimensiones después de eliminar los valores NAs de la base de datos:\", cleaned_ds.shape)\n"
      ]
    },
    {
      "cell_type": "markdown",
      "id": "middle-china",
      "metadata": {
        "id": "middle-china"
      },
      "source": [
        "#### Exercise 07. Which is the mean of prices in the population (level5 column) of \"Arroyomolinos (Madrid)\"? (★★☆)\n",
        "\n",
        "Print the obtained value."
      ]
    },
    {
      "cell_type": "code",
      "execution_count": 46,
      "id": "nuclear-belief",
      "metadata": {
        "colab": {
          "base_uri": "https://localhost:8080/",
          "height": 35
        },
        "id": "nuclear-belief",
        "outputId": "0b119551-fea6-41ab-f458-32bf911f86da"
      },
      "outputs": [
        {
          "data": {
            "text/plain": [
              "np.float64(294541.59854014596)"
            ]
          },
          "metadata": {},
          "output_type": "display_data"
        }
      ],
      "source": [
        "# TODO\n",
        "\n",
        "#ds[ds['level5']=='Arroyomolinos (Madrid)']['price'].count()\n",
        "\n",
        "#display(ds[ds['level5']=='Arroyomolinos (Madrid)']['price'])\n",
        "\n",
        "promedio_arroyomolinos=ds[ds['level5']=='Arroyomolinos (Madrid)']['price'].mean()\n",
        "display(promedio_arroyomolinos)\n"
      ]
    },
    {
      "cell_type": "markdown",
      "id": "concerned-radical",
      "metadata": {
        "id": "concerned-radical"
      },
      "source": [
        "#### Exercise 08. Plot the histogram of prices for the population (level5 column) of \"Arroyomolinos (Madrid)\" and explain what you observe (★★☆)\n",
        "\n",
        "Print the histogram of the prices and write in the Markdown cell a brief analysis about the plot."
      ]
    },
    {
      "cell_type": "code",
      "execution_count": 47,
      "id": "sudden-message",
      "metadata": {
        "colab": {
          "base_uri": "https://localhost:8080/",
          "height": 690
        },
        "id": "sudden-message",
        "outputId": "74692850-bf89-47ac-a49a-e5b3d6fcc0d6"
      },
      "outputs": [
        {
          "name": "stdout",
          "output_type": "stream",
          "text": [
            "453      165338\n",
            "607      251646\n",
            "613      396000\n",
            "707      225000\n",
            "852      373000\n",
            "          ...  \n",
            "15019    218000\n",
            "15089    230000\n",
            "15091    217000\n",
            "15094    227000\n",
            "15192    462000\n",
            "Name: price, Length: 137, dtype: int64\n"
          ]
        },
        {
          "data": {
            "image/png": "[encoded data removed]",
            "text/plain": [
              "<Figure size 640x480 with 1 Axes>"
            ]
          },
          "metadata": {},
          "output_type": "display_data"
        }
      ],
      "source": [
        "# TODO: Code\n",
        "import matplotlib.pyplot as plt\n",
        "\n",
        "arroyomolinos_price=ds[ds['level5']=='Arroyomolinos (Madrid)']['price']\n",
        "print(arroyomolinos_price)\n",
        "\n",
        "plt.hist(arroyomolinos_price, bins=35)\n",
        "plt.title('Precios en Arroyomolinos (Madrid)')\n",
        "plt.xlabel('Precio')\n",
        "plt.show()\n"
      ]
    },
    {
      "cell_type": "markdown",
      "id": "impressed-combination",
      "metadata": {
        "id": "impressed-combination"
      },
      "source": [
        "**TODO: Markdown**. To write here, double-click on this cell, remove this content and place the text you want to write. Then, execute the cell."
      ]
    },
    {
      "cell_type": "markdown",
      "id": "actual-edinburgh",
      "metadata": {
        "id": "actual-edinburgh"
      },
      "source": [
        "#### Exercise 09. Are the average prices of \"Valdemorillo\" and \"Galapagar\" the same? (★★☆)\n",
        "\n",
        "Print both average prices and then write a conclusion about them."
      ]
    },
    {
      "cell_type": "code",
      "execution_count": 48,
      "id": "numeric-commerce",
      "metadata": {
        "colab": {
          "base_uri": "https://localhost:8080/"
        },
        "id": "numeric-commerce",
        "outputId": "0a2f1a9e-0d92-42ca-826f-fd8ada9f0ac9"
      },
      "outputs": [
        {
          "name": "stdout",
          "output_type": "stream",
          "text": [
            "precio promedio de Valdemorillo: 363860.2931034483\n",
            "precio promedio de Galapagar: 360063.20238095237\n"
          ]
        }
      ],
      "source": [
        "# TODO\n",
        "\n",
        "mean_valdemorillo=ds[ds['level5']=='Valdemorillo']['price'].mean()\n",
        "print(f\"precio promedio de Valdemorillo: {mean_valdemorillo}\")\n",
        "\n",
        "\n",
        "mean_galapagar= ds[ds['level5']=='Galapagar']['price'].mean()\n",
        "print(f\"precio promedio de Galapagar: {mean_galapagar}\")\n",
        "\n"
      ]
    },
    {
      "cell_type": "markdown",
      "id": "6Z6X7LMwIbCv",
      "metadata": {
        "id": "6Z6X7LMwIbCv"
      },
      "source": [
        "Los precios promedio de Valdemorillo y Galapagar solo difieren por aproximadamente 3000"
      ]
    },
    {
      "cell_type": "markdown",
      "id": "lonely-article",
      "metadata": {
        "id": "lonely-article"
      },
      "source": [
        "#### Exercise 10. Are the average prices per square meter (price/m2) of \"Valdemorillo\" and \"Galapagar\" the same? (★★☆)\n",
        "\n",
        "Print both average prices and then write a conclusion about it.\n",
        "\n",
        "Hint: Create a new column called `pps` (price per square meter) and then analyze the values."
      ]
    },
    {
      "cell_type": "code",
      "execution_count": 49,
      "id": "hourly-globe",
      "metadata": {
        "id": "hourly-globe"
      },
      "outputs": [],
      "source": [
        "# TODO\n",
        "\n",
        "price_valdemorillo = ds[ds['level5']=='Valdemorillo']['price']\n",
        "#display(price_valdemorillo)\n",
        "\n",
        "surface_valdemorillo = ds[ds['level5']=='Valdemorillo']['surface']\n",
        "#display(surface_valdemorillo)\n",
        "pps_valdemorillo = ds[ds['level5']=='Valdemorillo']['price'] / ds[ds['level5']=='Valdemorillo']['surface']\n",
        "pps_galapagar= ds[ds['level5']=='Galapagar']['price'] / ds[ds['level5']=='Galapagar']['surface']\n",
        "\n",
        "#ds['pps_valdemorillo'] = ds[ds['level5']=='Valdemorillo']['price'] / ds[ds['level5']=='Valdemorillo']['surface']\n",
        "#display (pps_valdemorillo)\n",
        "\n",
        "#ds['pps_galapagar'] = ds[ds['level5']=='Galapagar']['price'] / ds[ds['level5']=='Galapagar']['surface']\n",
        "#display(pps_galapagar)"
      ]
    },
    {
      "cell_type": "code",
      "execution_count": 50,
      "id": "t9IH9iNsTs0Z",
      "metadata": {
        "colab": {
          "base_uri": "https://localhost:8080/",
          "height": 423
        },
        "id": "t9IH9iNsTs0Z",
        "outputId": "217f2bd2-9d8d-47da-fbdc-411bdfeb1e7f"
      },
      "outputs": [
        {
          "data": {
            "text/html": [
              "<div>\n",
              "<style scoped>\n",
              "    .dataframe tbody tr th:only-of-type {\n",
              "        vertical-align: middle;\n",
              "    }\n",
              "\n",
              "    .dataframe tbody tr th {\n",
              "        vertical-align: top;\n",
              "    }\n",
              "\n",
              "    .dataframe thead th {\n",
              "        text-align: right;\n",
              "    }\n",
              "</style>\n",
              "<table border=\"1\" class=\"dataframe\">\n",
              "  <thead>\n",
              "    <tr style=\"text-align: right;\">\n",
              "      <th></th>\n",
              "      <th>price</th>\n",
              "      <th>surface</th>\n",
              "      <th>0</th>\n",
              "      <th>1</th>\n",
              "    </tr>\n",
              "  </thead>\n",
              "  <tbody>\n",
              "    <tr>\n",
              "      <th>390</th>\n",
              "      <td>160000.0</td>\n",
              "      <td>85.0</td>\n",
              "      <td>1882.352941</td>\n",
              "      <td>NaN</td>\n",
              "    </tr>\n",
              "    <tr>\n",
              "      <th>545</th>\n",
              "      <td>749000.0</td>\n",
              "      <td>426.0</td>\n",
              "      <td>1758.215962</td>\n",
              "      <td>NaN</td>\n",
              "    </tr>\n",
              "    <tr>\n",
              "      <th>823</th>\n",
              "      <td>359000.0</td>\n",
              "      <td>280.0</td>\n",
              "      <td>1282.142857</td>\n",
              "      <td>NaN</td>\n",
              "    </tr>\n",
              "    <tr>\n",
              "      <th>2028</th>\n",
              "      <td>396800.0</td>\n",
              "      <td>305.0</td>\n",
              "      <td>1300.983607</td>\n",
              "      <td>NaN</td>\n",
              "    </tr>\n",
              "    <tr>\n",
              "      <th>2281</th>\n",
              "      <td>270000.0</td>\n",
              "      <td>174.0</td>\n",
              "      <td>1551.724138</td>\n",
              "      <td>NaN</td>\n",
              "    </tr>\n",
              "    <tr>\n",
              "      <th>...</th>\n",
              "      <td>...</td>\n",
              "      <td>...</td>\n",
              "      <td>...</td>\n",
              "      <td>...</td>\n",
              "    </tr>\n",
              "    <tr>\n",
              "      <th>14060</th>\n",
              "      <td>NaN</td>\n",
              "      <td>NaN</td>\n",
              "      <td>NaN</td>\n",
              "      <td>1597.222222</td>\n",
              "    </tr>\n",
              "    <tr>\n",
              "      <th>14743</th>\n",
              "      <td>NaN</td>\n",
              "      <td>NaN</td>\n",
              "      <td>NaN</td>\n",
              "      <td>1871.794872</td>\n",
              "    </tr>\n",
              "    <tr>\n",
              "      <th>14745</th>\n",
              "      <td>NaN</td>\n",
              "      <td>NaN</td>\n",
              "      <td>NaN</td>\n",
              "      <td>1408.585859</td>\n",
              "    </tr>\n",
              "    <tr>\n",
              "      <th>14759</th>\n",
              "      <td>NaN</td>\n",
              "      <td>NaN</td>\n",
              "      <td>NaN</td>\n",
              "      <td>1666.666667</td>\n",
              "    </tr>\n",
              "    <tr>\n",
              "      <th>14850</th>\n",
              "      <td>NaN</td>\n",
              "      <td>NaN</td>\n",
              "      <td>NaN</td>\n",
              "      <td>1426.116838</td>\n",
              "    </tr>\n",
              "  </tbody>\n",
              "</table>\n",
              "<p>142 rows × 4 columns</p>\n",
              "</div>"
            ],
            "text/plain": [
              "          price  surface            0            1\n",
              "390    160000.0     85.0  1882.352941          NaN\n",
              "545    749000.0    426.0  1758.215962          NaN\n",
              "823    359000.0    280.0  1282.142857          NaN\n",
              "2028   396800.0    305.0  1300.983607          NaN\n",
              "2281   270000.0    174.0  1551.724138          NaN\n",
              "...         ...      ...          ...          ...\n",
              "14060       NaN      NaN          NaN  1597.222222\n",
              "14743       NaN      NaN          NaN  1871.794872\n",
              "14745       NaN      NaN          NaN  1408.585859\n",
              "14759       NaN      NaN          NaN  1666.666667\n",
              "14850       NaN      NaN          NaN  1426.116838\n",
              "\n",
              "[142 rows x 4 columns]"
            ]
          },
          "metadata": {},
          "output_type": "display_data"
        }
      ],
      "source": [
        "combined_df_valdemorillo = pd.concat([price_valdemorillo, surface_valdemorillo, pps_valdemorillo, pps_galapagar], axis=1)\n",
        "\n",
        "display(combined_df_valdemorillo)\n",
        "\n",
        "#price_valdemorillo.merge(['surface_valdemorillo'], ['pps_valdemorillo'])\n"
      ]
    },
    {
      "cell_type": "code",
      "execution_count": 51,
      "id": "TW6bIlJnlx_n",
      "metadata": {
        "colab": {
          "base_uri": "https://localhost:8080/"
        },
        "id": "TW6bIlJnlx_n",
        "outputId": "94845a37-bb2d-4123-aa68-bc2aad170e5e"
      },
      "outputs": [
        {
          "name": "stdout",
          "output_type": "stream",
          "text": [
            "promedio por metro cuadrado Valdemorillo: 1606.3240303094024\n",
            "promedio por metro cuadrado Galapagar: 1317.9502109024986\n"
          ]
        }
      ],
      "source": [
        "mean_pps_valdemorillo = pps_valdemorillo.mean()\n",
        "mean_pps_galapagar = pps_galapagar.mean()\n",
        "\n",
        "print(f\"promedio por metro cuadrado Valdemorillo: {mean_pps_galapagar}\")\n",
        "print(f\"promedio por metro cuadrado Galapagar: {mean_pps_valdemorillo}\")\n"
      ]
    },
    {
      "cell_type": "markdown",
      "id": "pleasant-invite",
      "metadata": {
        "id": "pleasant-invite"
      },
      "source": [
        "#### Exercise 11. Analyze the relation between the surface and the price of the houses (★★☆)\n",
        "\n",
        "Hint: You can make a `scatter plot`, then write a conclusion about it."
      ]
    },
    {
      "cell_type": "code",
      "execution_count": 52,
      "id": "common-drilling",
      "metadata": {
        "colab": {
          "base_uri": "https://localhost:8080/",
          "height": 491
        },
        "id": "common-drilling",
        "outputId": "a77de10e-ff5d-4a56-b416-2e84f464e3af"
      },
      "outputs": [
        {
          "name": "stdout",
          "output_type": "stream",
          "text": [
            "477303.56641669385\n",
            "196.91643592474264\n"
          ]
        },
        {
          "data": {
            "image/png": "[encoded data removed]",
            "text/plain": [
              "<Figure size 640x480 with 1 Axes>"
            ]
          },
          "metadata": {},
          "output_type": "display_data"
        }
      ],
      "source": [
        "# TODO: Code\n",
        "\n",
        "import matplotlib.pyplot as plt\n",
        "#plt.scatter(['surface'],['price'])\n",
        "\n",
        "ds.plot.scatter(x='price', y='surface')\n",
        "plt.ylim(0, 3000)\n",
        "\n",
        "mean_price = ds['price'].mean()\n",
        "print(mean_price)\n",
        "mean_surface = ds['surface'].mean()\n",
        "print(mean_surface)\n"
      ]
    },
    {
      "cell_type": "markdown",
      "id": "ahead-liquid",
      "metadata": {
        "id": "ahead-liquid"
      },
      "source": [
        "**TODO: Markdown**. Es probable que haya exista una relación entre la superficie y el precio de las casas. Sin embargo, es altamente probable que el precio de las casas también dependa de otros factores como su ubicación, la calidad de los materiales, etc.  "
      ]
    },
    {
      "cell_type": "markdown",
      "id": "coordinate-sunrise",
      "metadata": {
        "id": "coordinate-sunrise"
      },
      "source": [
        "#### Exercise 12. How many real estate agencies does the dataset contain? (★★☆)\n",
        "\n",
        "Print the obtained value."
      ]
    },
    {
      "cell_type": "code",
      "execution_count": 53,
      "id": "valid-honolulu",
      "metadata": {
        "colab": {
          "base_uri": "https://localhost:8080/"
        },
        "id": "valid-honolulu",
        "outputId": "823a946a-f9e0-42b6-8c6e-5704a6bcc465"
      },
      "outputs": [
        {
          "name": "stdout",
          "output_type": "stream",
          "text": [
            "15325\n"
          ]
        }
      ],
      "source": [
        "# TODO\n",
        "\n",
        "#ds.columns\n",
        "\n",
        "#estate_agencies=ds['realEstate_name'].dropna().size  # 1er metodo\n",
        "\n",
        "estate_agencies=ds['realEstate_name'].count()   # count excluye los valores NAN\n",
        "print(estate_agencies)\n"
      ]
    },
    {
      "cell_type": "markdown",
      "id": "binding-ebony",
      "metadata": {
        "id": "binding-ebony"
      },
      "source": [
        "#### Exercise 13. Which is the population (level5 column) that contains the most houses? (★★☆)\n",
        "\n",
        "Print both the population and the number of houses."
      ]
    },
    {
      "cell_type": "code",
      "execution_count": 54,
      "id": "static-perry",
      "metadata": {
        "colab": {
          "base_uri": "https://localhost:8080/",
          "height": 489
        },
        "id": "static-perry",
        "outputId": "0fe76312-0f8e-4547-9f15-6cffadda8741"
      },
      "outputs": [
        {
          "data": {
            "text/plain": [
              "level5\n",
              " Madrid Capital          6643\n",
              "Ajalvir                    17\n",
              "Alcalá de Henares         525\n",
              "Alcobendas                259\n",
              "Alcorcón                  190\n",
              "                         ... \n",
              "Villar del Olmo             7\n",
              "Villarejo de Salvanés      19\n",
              "Villaviciosa de Odón      166\n",
              "Villavieja del Lozoya       6\n",
              "Zarzalejo                   2\n",
              "Name: level5, Length: 168, dtype: int64"
            ]
          },
          "metadata": {},
          "output_type": "display_data"
        }
      ],
      "source": [
        "# TODO\n",
        "\n",
        "#ds.columns\n",
        "number_houses = ds.groupby(by=['level5'])['level5'].count()\n",
        "#ds['number_houses'] = ds.groupby(by=['level5'])['level5'].count()\n",
        "\n",
        "display(number_houses)\n"
      ]
    },
    {
      "cell_type": "code",
      "execution_count": 55,
      "id": "MhebcRs4_ACH",
      "metadata": {
        "colab": {
          "base_uri": "https://localhost:8080/"
        },
        "id": "MhebcRs4_ACH",
        "outputId": "ffead4c0-08eb-4373-c41b-588e1810ad3b"
      },
      "outputs": [
        {
          "name": "stdout",
          "output_type": "stream",
          "text": [
            " Madrid Capital es la agencia con la mayor cantidad de casas, con una poblacion de: 6643\n"
          ]
        }
      ],
      "source": [
        "pop_counts = ds['level5'].value_counts()\n",
        "#print(pop_counts)\n",
        "\n",
        "max_pop_count = pop_counts.max()\n",
        "\n",
        "agencia_max_pop = pop_counts.idxmax()\n",
        "\n",
        "\n",
        "\n",
        "print(f\"{agencia_max_pop} es la agencia con la mayor cantidad de casas, con una poblacion de: {max_pop_count}\")\n"
      ]
    },
    {
      "cell_type": "markdown",
      "id": "entire-classification",
      "metadata": {
        "id": "entire-classification"
      },
      "source": [
        "#### Exercise 14. Now let's work with the \"south belt\" of Madrid. Make a subset of the original DataFrame that contains the following populations (level5 column): \"Fuenlabrada\", \"Leganés\", \"Getafe\", \"Alcorcón\" (★★☆)\n",
        "\n",
        "Hint: Filter the original DataFrame using the column `level5` and the function `isin`."
      ]
    },
    {
      "cell_type": "code",
      "execution_count": 56,
      "id": "binary-input",
      "metadata": {
        "colab": {
          "base_uri": "https://localhost:8080/",
          "height": 458
        },
        "id": "binary-input",
        "outputId": "c935cd74-f808-46c0-e501-3cbd399a4e7f"
      },
      "outputs": [
        {
          "data": {
            "text/plain": [
              "0        False\n",
              "1         True\n",
              "2        False\n",
              "3         True\n",
              "4        False\n",
              "         ...  \n",
              "15330    False\n",
              "15331    False\n",
              "15332    False\n",
              "15333    False\n",
              "15334    False\n",
              "Name: level5, Length: 15335, dtype: bool"
            ]
          },
          "metadata": {},
          "output_type": "display_data"
        }
      ],
      "source": [
        "# TODO\n",
        "#ds['isin_madrid'] = ds['level5'].isin(['Fuenlabrada', 'Leganés', 'Getafe', 'Alcorcón'])\n",
        "isin_madrid = ds['level5'].isin(['Fuenlabrada', 'Leganés', 'Getafe', 'Alcorcón'])\n",
        "#isin_madrid.sum() #numero de elementos true\n",
        "\n",
        "display(isin_madrid)"
      ]
    },
    {
      "cell_type": "markdown",
      "id": "severe-fisher",
      "metadata": {
        "id": "severe-fisher"
      },
      "source": [
        "#### Exercise 15. Make a bar plot of the median of the prices and explain what you observe (you must use the subset obtained in Exercise 14) (★★★)\n",
        "\n",
        "Print the bar of the median of the prices and write in the Markdown cell a brief analysis about the plot."
      ]
    },
    {
      "cell_type": "code",
      "execution_count": 57,
      "id": "lyric-bunch",
      "metadata": {
        "colab": {
          "base_uri": "https://localhost:8080/",
          "height": 546
        },
        "id": "lyric-bunch",
        "outputId": "b78d742f-22d1-4ab4-d0a0-42c6f63d1e44"
      },
      "outputs": [
        {
          "name": "stdout",
          "output_type": "stream",
          "text": [
            "precio de la mediana en Fuenlabrada: 155000.0\n",
            "precio de la mediana en Leganés: 169950.0\n",
            "precio de la mediana en Getafe: 285305.0\n",
            "precio de la mediana en Alcorcón: 179500.0\n"
          ]
        },
        {
          "data": {
            "image/png": "[encoded data removed]",
            "text/plain": [
              "<Figure size 640x480 with 1 Axes>"
            ]
          },
          "metadata": {},
          "output_type": "display_data"
        }
      ],
      "source": [
        "# TODO: Code\n",
        "\n",
        "#isin_madrid = ds['level5'].isin(['Fuenlabrada', 'Leganés', 'Getafe', 'Alcorcón'])\n",
        "\n",
        "#isin_madrid.sum() #numero de elementos true\n",
        "\n",
        "#display(isin_madrid)\n",
        "\n",
        "fuenlabrada= ds[ds['level5']=='Fuenlabrada']['price'].median()\n",
        "leganes = ds[ds['level5']=='Leganés']['price'].median()\n",
        "getafe= ds[ds['level5']=='Getafe']['price'].median()\n",
        "alcorcon= ds[ds['level5']=='Alcorcón']['price'].median()\n",
        "\n",
        "#Fuenlabrada = ds.groupby(by=ds['level5']=='Fuenlabrada')['price'].sum()#.median()\n",
        "print(f\"precio de la mediana en Fuenlabrada: {fuenlabrada}\")\n",
        "print(f\"precio de la mediana en Leganés: {leganes}\")\n",
        "print(f\"precio de la mediana en Getafe: {getafe}\")\n",
        "print(f\"precio de la mediana en Alcorcón: {alcorcon}\")\n",
        "\n",
        "#-------  Grafica de barras -----\n",
        "import matplotlib.pyplot as plt\n",
        "\n",
        "categories = ['Fuenlabrada', 'Leganés', 'Getafe', 'Alcorcón']\n",
        "values = [fuenlabrada, leganes, getafe, alcorcon]\n",
        "\n",
        "plt.bar(categories, values, color='darkgreen', edgecolor='black')\n",
        "plt.xlabel('Categorías')\n",
        "plt.ylabel('Mediana de los precios')\n",
        "plt.title('Valor de las medianas en direntes poblaciones (Cinturon Sur de Madrid) ')\n",
        "plt.show()\n"
      ]
    },
    {
      "cell_type": "markdown",
      "id": "sublime-newspaper",
      "metadata": {
        "id": "sublime-newspaper"
      },
      "source": [
        "**TODO: Markdown**.Los precios en Fuenlabrada, Leganés y Alcorcón tienen una mediana entre aprox. 150,000 y 180,000, mientras Getafé tiene una mediana de aprox. 285,000.\n",
        "Es muy probable que el precio de una vivienda dependa de su ubicación, independientemente de su superficie u otros factores.   "
      ]
    },
    {
      "cell_type": "markdown",
      "id": "speaking-diamond",
      "metadata": {
        "id": "speaking-diamond"
      },
      "source": [
        "#### Exercise 16. Calculate the sample mean and variance of the variables: price, rooms, surface area and bathrooms (you must use the subset obtained in Exercise 14) (★★★)\n",
        "\n",
        "Print both values for each variable."
      ]
    },
    {
      "cell_type": "code",
      "execution_count": 58,
      "id": "random-feeling",
      "metadata": {
        "colab": {
          "base_uri": "https://localhost:8080/"
        },
        "id": "random-feeling",
        "outputId": "de9d5748-cadf-4624-81f9-41d2946bb32c"
      },
      "outputs": [
        {
          "name": "stdout",
          "output_type": "stream",
          "text": [
            "la media de los PRECIOS por población es: level5\n",
            "Alcorcón       230071.052632\n",
            "Fuenlabrada    177198.021459\n",
            "Getafe         265040.500000\n",
            "Leganés        208682.010309\n",
            "Name: price, dtype: float64\n",
            "la desviacion estandar de los PRECIOS por población es: level5\n",
            "Alcorcón       126284.702094\n",
            "Fuenlabrada     68563.989823\n",
            "Getafe         144853.946450\n",
            "Leganés        109150.996530\n",
            "Name: price, dtype: float64\n"
          ]
        }
      ],
      "source": [
        "# TODO\n",
        "\n",
        "#------- precio ------\n",
        "\n",
        "populations_madrid= [\"Fuenlabrada\", \"Leganés\", \"Getafe\", \"Alcorcón\"]\n",
        "isin_pop_madrid = ds[ds['level5'].isin(populations_madrid)]\n",
        "#display(isin_pop_madrid)\n",
        "\n",
        "# Media y desvacion estandar de precios por población\n",
        "mean_prices = isin_pop_madrid.groupby(by='level5')['price'].mean()\n",
        "print(f\"la media de los PRECIOS por población es: {mean_prices}\")\n",
        "\n",
        "std_prices = isin_pop_madrid.groupby(by='level5')['price'].std()\n",
        "print(f\"la desviacion estandar de los PRECIOS por población es: {std_prices}\")\n"
      ]
    },
    {
      "cell_type": "code",
      "execution_count": 59,
      "id": "_2wVELd7eNl_",
      "metadata": {
        "colab": {
          "base_uri": "https://localhost:8080/"
        },
        "id": "_2wVELd7eNl_",
        "outputId": "6acd860e-4434-4a24-fbe7-a76964953439"
      },
      "outputs": [
        {
          "name": "stdout",
          "output_type": "stream",
          "text": [
            "la media del NUMERO DE CUARTOS por población es: level5\n",
            "Alcorcón       2.914894\n",
            "Fuenlabrada    3.025974\n",
            "Getafe         3.151724\n",
            "Leganés        2.906736\n",
            "Name: rooms, dtype: float64\n",
            "la desviacion estandar del NUMERO DE CUARTOS por población es: level5\n",
            "Alcorcón       0.966382\n",
            "Fuenlabrada    0.596527\n",
            "Getafe         0.879061\n",
            "Leganés        0.908069\n",
            "Name: rooms, dtype: float64\n"
          ]
        }
      ],
      "source": [
        "#------- numero de cuartos (rooms) ------\n",
        "\n",
        "# Media y desvacion estandar del numero de cuartos por población\n",
        "mean_rooms = isin_pop_madrid.groupby(by='level5')['rooms'].mean()\n",
        "print(f\"la media del NUMERO DE CUARTOS por población es: {mean_rooms}\")\n",
        "\n",
        "std_rooms = isin_pop_madrid.groupby(by='level5')['rooms'].std()\n",
        "print(f\"la desviacion estandar del NUMERO DE CUARTOS por población es: {std_rooms}\")\n"
      ]
    },
    {
      "cell_type": "code",
      "execution_count": 60,
      "id": "1ByzX-LhgEtE",
      "metadata": {
        "colab": {
          "base_uri": "https://localhost:8080/"
        },
        "id": "1ByzX-LhgEtE",
        "outputId": "3d8a582f-921a-4c0e-b210-5b217d9ed3e7"
      },
      "outputs": [
        {
          "name": "stdout",
          "output_type": "stream",
          "text": [
            "la media del AREA DE LA SUPERFICIE por población es: level5\n",
            "Alcorcón       105.913295\n",
            "Fuenlabrada    103.624365\n",
            "Getafe         126.896266\n",
            "Leganés        105.852273\n",
            "Name: surface, dtype: float64\n",
            "la desviacion estandar del AREA DE LA SUPERFICIE por población es: level5\n",
            "Alcorcón       65.148475\n",
            "Fuenlabrada    47.588275\n",
            "Getafe         76.342059\n",
            "Leganés        63.146458\n",
            "Name: surface, dtype: float64\n"
          ]
        }
      ],
      "source": [
        "\n",
        "#------- area de superficie (surface area) ------\n",
        "\n",
        "# Media y desvacion estandar de precios por población\n",
        "mean_surface = isin_pop_madrid.groupby(by='level5')['surface'].mean()\n",
        "print(f\"la media del AREA DE LA SUPERFICIE por población es: {mean_surface}\")\n",
        "\n",
        "std_surface = isin_pop_madrid.groupby(by='level5')['surface'].std()\n",
        "print(f\"la desviacion estandar del AREA DE LA SUPERFICIE por población es: {std_surface}\")\n",
        "\n"
      ]
    },
    {
      "cell_type": "code",
      "execution_count": 61,
      "id": "9OJsQ5YVhPp5",
      "metadata": {
        "colab": {
          "base_uri": "https://localhost:8080/"
        },
        "id": "9OJsQ5YVhPp5",
        "outputId": "9fcaf2c8-c996-4de9-efdd-5d4d52c78420"
      },
      "outputs": [
        {
          "name": "stdout",
          "output_type": "stream",
          "text": [
            "la media del NUMERO DE BAÑOS por población es: level5\n",
            "Alcorcón       1.623656\n",
            "Fuenlabrada    1.445415\n",
            "Getafe         1.865052\n",
            "Leganés        1.518135\n",
            "Name: bathrooms, dtype: float64\n",
            "la desviacion estandar del NUMERO DE BAÑOS por población es: level5\n",
            "Alcorcón       0.769893\n",
            "Fuenlabrada    0.594447\n",
            "Getafe         0.811671\n",
            "Leganés        0.743677\n",
            "Name: bathrooms, dtype: float64\n"
          ]
        }
      ],
      "source": [
        "#------- numero de baños (bathrooms) ------\n",
        "\n",
        "# Media y desvacion estandar del numero de cuartos por población\n",
        "mean_bathrooms = isin_pop_madrid.groupby(by='level5')['bathrooms'].mean()\n",
        "print(f\"la media del NUMERO DE BAÑOS por población es: {mean_bathrooms}\")\n",
        "\n",
        "std_bathrooms = isin_pop_madrid.groupby(by='level5')['bathrooms'].std()\n",
        "print(f\"la desviacion estandar del NUMERO DE BAÑOS por población es: {std_bathrooms}\")"
      ]
    },
    {
      "cell_type": "markdown",
      "id": "revolutionary-matrix",
      "metadata": {
        "id": "revolutionary-matrix"
      },
      "source": [
        "#### Exercise 17. What is the most expensive house in each population? You must use the subset obtained in Exercise 14 (★★☆)\n",
        "\n",
        "Print both the address and the price of the selected house of each population. You can print a DataFrame or a single line for each population."
      ]
    },
    {
      "cell_type": "code",
      "execution_count": 62,
      "id": "fifteen-browse",
      "metadata": {
        "colab": {
          "base_uri": "https://localhost:8080/",
          "height": 175
        },
        "id": "fifteen-browse",
        "outputId": "f8986d0a-cbda-410d-9394-1d1309fb6bab"
      },
      "outputs": [
        {
          "data": {
            "text/html": [
              "<div>\n",
              "<style scoped>\n",
              "    .dataframe tbody tr th:only-of-type {\n",
              "        vertical-align: middle;\n",
              "    }\n",
              "\n",
              "    .dataframe tbody tr th {\n",
              "        vertical-align: top;\n",
              "    }\n",
              "\n",
              "    .dataframe thead th {\n",
              "        text-align: right;\n",
              "    }\n",
              "</style>\n",
              "<table border=\"1\" class=\"dataframe\">\n",
              "  <thead>\n",
              "    <tr style=\"text-align: right;\">\n",
              "      <th></th>\n",
              "      <th>level5</th>\n",
              "      <th>address</th>\n",
              "      <th>price</th>\n",
              "    </tr>\n",
              "  </thead>\n",
              "  <tbody>\n",
              "    <tr>\n",
              "      <th>5585</th>\n",
              "      <td>Alcorcón</td>\n",
              "      <td>Alcorcón</td>\n",
              "      <td>950000</td>\n",
              "    </tr>\n",
              "    <tr>\n",
              "      <th>11561</th>\n",
              "      <td>Fuenlabrada</td>\n",
              "      <td>Calle de Paulo Freire, 5, Fuenlabrada</td>\n",
              "      <td>490000</td>\n",
              "    </tr>\n",
              "    <tr>\n",
              "      <th>2881</th>\n",
              "      <td>Getafe</td>\n",
              "      <td>Getafe</td>\n",
              "      <td>1050000</td>\n",
              "    </tr>\n",
              "    <tr>\n",
              "      <th>10412</th>\n",
              "      <td>Leganés</td>\n",
              "      <td>Avenida Reina Sofía, Leganés</td>\n",
              "      <td>650000</td>\n",
              "    </tr>\n",
              "  </tbody>\n",
              "</table>\n",
              "</div>"
            ],
            "text/plain": [
              "            level5                                address    price\n",
              "5585      Alcorcón                               Alcorcón   950000\n",
              "11561  Fuenlabrada  Calle de Paulo Freire, 5, Fuenlabrada   490000\n",
              "2881        Getafe                                 Getafe  1050000\n",
              "10412      Leganés           Avenida Reina Sofía, Leganés   650000"
            ]
          },
          "metadata": {},
          "output_type": "display_data"
        }
      ],
      "source": [
        "# TODO\n",
        "\n",
        "most_expensive_house = isin_pop_madrid.groupby('level5')['price'].max()\n",
        "index_most_expensive_house= isin_pop_madrid.groupby('level5')['price'].idxmax()\n",
        "\n",
        "most_expensive_houses_each_pop = isin_pop_madrid.loc[index_most_expensive_house, ['level5', 'address', 'price']]\n",
        "\n",
        "display(most_expensive_houses_each_pop)\n",
        "\n"
      ]
    },
    {
      "cell_type": "markdown",
      "id": "activated-knight",
      "metadata": {
        "id": "activated-knight"
      },
      "source": [
        "#### Exercise 18. Normalize the variable of prices for each population and plot the 4 histograms in the same plot (you must use the subset obtained in Exercise 14) (★★★)\n",
        "\n",
        "For the normalization method, you can use the one you consider; there is not a single correct answer to this question. Print the plot and write in the Markdown cell a brief analysis about the plot.\n",
        "\n",
        "Hint: You can help yourself by reviewing the *multihist* demo of Matplotlib."
      ]
    },
    {
      "cell_type": "code",
      "execution_count": 63,
      "id": "civic-meditation",
      "metadata": {
        "colab": {
          "base_uri": "https://localhost:8080/"
        },
        "id": "civic-meditation",
        "outputId": "3916d938-517a-4b49-8f03-00c14295f6dd"
      },
      "outputs": [
        {
          "name": "stdout",
          "output_type": "stream",
          "text": [
            "level5\n",
            "Alcorcón        950000\n",
            "Fuenlabrada     490000\n",
            "Getafe         1050000\n",
            "Leganés         650000\n",
            "Name: price, dtype: int64\n",
            "1050000\n",
            "level5\n",
            "Alcorcón       91500\n",
            "Fuenlabrada    89000\n",
            "Getafe             0\n",
            "Leganés        60000\n",
            "Name: price, dtype: int64\n",
            "0\n"
          ]
        }
      ],
      "source": [
        "# TODO\n",
        "\n",
        "#x_min  y x_max------\n",
        "most_expensive_house = isin_pop_madrid.groupby('level5')['price'].max() #casa más cara por cada población\n",
        "print(most_expensive_house)\n",
        "x_max= most_expensive_house.max() #casa más cara de todas las poblaciones\n",
        "print(x_max)\n",
        "\n",
        "cheapest_house=isin_pop_madrid.groupby('level5')['price'].min() ##casa más barata por cada población\n",
        "print(cheapest_house)\n",
        "x_min= cheapest_house.min()  #casa más barata de todas las poblaciones\n",
        "print(x_min)\n",
        "\n"
      ]
    },
    {
      "cell_type": "code",
      "execution_count": 64,
      "id": "hBRKKhyHASMl",
      "metadata": {
        "colab": {
          "base_uri": "https://localhost:8080/",
          "height": 1000
        },
        "id": "hBRKKhyHASMl",
        "outputId": "d2581e00-7c09-4240-d9f9-eff38a5b98cc"
      },
      "outputs": [
        {
          "data": {
            "text/plain": [
              "1003          0\n",
              "1645          0\n",
              "10436         0\n",
              "6439          0\n",
              "4019          0\n",
              "4362          0\n",
              "3959          0\n",
              "3989          0\n",
              "7356          0\n",
              "8192          0\n",
              "8256          0\n",
              "7227          0\n",
              "8384      74900\n",
              "13049     85000\n",
              "1758      85000\n",
              "10964     92500\n",
              "1670      94500\n",
              "11729     95000\n",
              "2391      98000\n",
              "2361      98000\n",
              "735       99900\n",
              "269       99900\n",
              "12093    102000\n",
              "12521    102000\n",
              "7693     102000\n",
              "10960    102500\n",
              "12279    103000\n",
              "5252     104000\n",
              "5615     104000\n",
              "9696     104000\n",
              "14232    104000\n",
              "12555    106967\n",
              "7161     107500\n",
              "7544     107500\n",
              "7131     107500\n",
              "755      107500\n",
              "7826     108000\n",
              "8942     108000\n",
              "4948     108000\n",
              "14891    109999\n",
              "3113     110000\n",
              "2392     112000\n",
              "2362     112000\n",
              "5036     115000\n",
              "4947     115000\n",
              "4901     116000\n",
              "6885     117000\n",
              "757      117900\n",
              "754      118500\n",
              "3132     119000\n",
              "13859    119990\n",
              "13866    119990\n",
              "2393     120000\n",
              "5529     120000\n",
              "544      120000\n",
              "2363     120000\n",
              "5619     124000\n",
              "8842     124300\n",
              "14165    124900\n",
              "12308    124900\n",
              "Name: price, dtype: int64"
            ]
          },
          "execution_count": 64,
          "metadata": {},
          "output_type": "execute_result"
        }
      ],
      "source": [
        "\n",
        "getafe_2= ds[ds['level5']=='Getafe']['price']\n",
        "g2=getafe_2.sort_values()\n",
        "g2[:60]"
      ]
    },
    {
      "cell_type": "code",
      "execution_count": 65,
      "id": "xb0KQwIl7wiM",
      "metadata": {
        "id": "xb0KQwIl7wiM"
      },
      "outputs": [],
      "source": [
        "#Normalzacion   ---> utilizando la siguente ecuación:   ds['Normalized_Value'] = (ds['Value'] - min_val) / (max_val - min_val)\n",
        "\n",
        "fuenlabrada= ds[ds['level5']=='Fuenlabrada']['price']\n",
        "#print(fuenlabrada)\n",
        "normalized_fuenlabrada = (fuenlabrada - x_min) / (x_max - x_min) #columna de Fuenlabrada normalizada\n",
        "#display(normalized_fuenlabrada)\n",
        "\n",
        "leganes = ds[ds['level5']=='Leganés']['price']\n",
        "normalized_leganes = (leganes - x_min) / (x_max - x_min) #columna de Leganes normalizada\n",
        "#display(normalized_fuenlabrada)\n",
        "\n",
        "getafe= ds[ds['level5']=='Getafe']['price']\n",
        "normalized_getafe= (getafe - x_min) / (x_max - x_min) #columna de Getafe normalizada\n",
        "#display(normalized_getafe)\n",
        "\n",
        "alcorcon= ds[ds['level5']=='Alcorcón']['price']\n",
        "normalized_alcorcon= (alcorcon - x_min) / (x_max - x_min) #columna de Alcorcon normalizada\n",
        "#display(normalized_alcorcon)\n"
      ]
    },
    {
      "cell_type": "code",
      "execution_count": 66,
      "id": "S14hM9X1-P1P",
      "metadata": {
        "colab": {
          "base_uri": "https://localhost:8080/",
          "height": 472
        },
        "id": "S14hM9X1-P1P",
        "outputId": "53f62987-e242-48b1-acf9-20d2f6feef05"
      },
      "outputs": [
        {
          "data": {
            "image/png": "[encoded data removed]",
            "text/plain": [
              "<Figure size 640x480 with 1 Axes>"
            ]
          },
          "metadata": {},
          "output_type": "display_data"
        }
      ],
      "source": [
        "plt.hist(normalized_fuenlabrada, bins=50, alpha=0.5, label='Fuenlabrada', edgecolor='blue')\n",
        "plt.hist(normalized_leganes, bins=50, alpha=0.5, label='Leganés', color='grey',edgecolor='black')\n",
        "plt.hist(normalized_getafe, bins=50, alpha=0.2, label='Getafe', edgecolor='red')\n",
        "plt.hist(normalized_alcorcon, bins=50, alpha=0.5, label='Alcorcón', edgecolor='green')\n",
        "\n",
        "\n",
        "plt.xlabel('Normalización de Precios por poblacion')\n",
        "plt.ylabel('Frequencia')\n",
        "plt.title('Histogramas superpuestos')\n",
        "plt.legend()\n",
        "plt.show()"
      ]
    },
    {
      "cell_type": "code",
      "execution_count": 67,
      "id": "V33gK3t6HGxO",
      "metadata": {
        "colab": {
          "base_uri": "https://localhost:8080/",
          "height": 720
        },
        "id": "V33gK3t6HGxO",
        "outputId": "716b44ec-e418-4415-85dd-0b2e9e491474"
      },
      "outputs": [
        {
          "data": {
            "text/plain": [
              "(array([ 4.,  5.,  4., 14., 19., 25., 34.,  3., 26.,  9.,  8.,  7., 10.,\n",
              "        10.,  3.,  5.,  3.,  2.,  8.,  4.,  3.,  3.,  4.,  3.,  1.,  1.,\n",
              "         2.,  0.,  0.,  0.,  1.,  2.,  0.,  2.,  1.,  2.,  1.,  0.,  1.,\n",
              "         0.,  1.,  0.,  0.,  0.,  0.,  1.,  0.,  0.,  0.,  1.]),\n",
              " array([0.0847619 , 0.0924    , 0.1000381 , 0.10767619, 0.11531429,\n",
              "        0.12295238, 0.13059048, 0.13822857, 0.14586667, 0.15350476,\n",
              "        0.16114286, 0.16878095, 0.17641905, 0.18405714, 0.19169524,\n",
              "        0.19933333, 0.20697143, 0.21460952, 0.22224762, 0.22988571,\n",
              "        0.23752381, 0.2451619 , 0.2528    , 0.2604381 , 0.26807619,\n",
              "        0.27571429, 0.28335238, 0.29099048, 0.29862857, 0.30626667,\n",
              "        0.31390476, 0.32154286, 0.32918095, 0.33681905, 0.34445714,\n",
              "        0.35209524, 0.35973333, 0.36737143, 0.37500952, 0.38264762,\n",
              "        0.39028571, 0.39792381, 0.4055619 , 0.4132    , 0.4208381 ,\n",
              "        0.42847619, 0.43611429, 0.44375238, 0.45139048, 0.45902857,\n",
              "        0.46666667]),\n",
              " <BarContainer object of 50 artists>)"
            ]
          },
          "execution_count": 67,
          "metadata": {},
          "output_type": "execute_result"
        },
        {
          "data": {
            "image/png": "[encoded data removed]",
            "text/plain": [
              "<Figure size 640x480 with 1 Axes>"
            ]
          },
          "metadata": {},
          "output_type": "display_data"
        }
      ],
      "source": [
        "plt.hist(normalized_fuenlabrada, bins=50, alpha=0.5, label='Fuenlabrada', edgecolor='blue')\n"
      ]
    },
    {
      "cell_type": "code",
      "execution_count": 68,
      "id": "svbzKupcHq5j",
      "metadata": {
        "colab": {
          "base_uri": "https://localhost:8080/",
          "height": 720
        },
        "id": "svbzKupcHq5j",
        "outputId": "4099d246-ce8c-4eab-b3ef-7f8c98d5d255"
      },
      "outputs": [
        {
          "data": {
            "text/plain": [
              "(array([ 1.,  1.,  6., 10., 18., 21., 19., 10.,  9., 18.,  5.,  3.,  2.,\n",
              "         0.,  7.,  6.,  7.,  2.,  3.,  4.,  3.,  6.,  2.,  2.,  1.,  5.,\n",
              "         4.,  7.,  1.,  0.,  0.,  0.,  4.,  0.,  1.,  3.,  2.,  0.,  0.,\n",
              "         0.,  0.,  0.,  0.,  0.,  0.,  0.,  0.,  0.,  0.,  1.]),\n",
              " array([0.05714286, 0.06838095, 0.07961905, 0.09085714, 0.10209524,\n",
              "        0.11333333, 0.12457143, 0.13580952, 0.14704762, 0.15828571,\n",
              "        0.16952381, 0.1807619 , 0.192     , 0.2032381 , 0.21447619,\n",
              "        0.22571429, 0.23695238, 0.24819048, 0.25942857, 0.27066667,\n",
              "        0.28190476, 0.29314286, 0.30438095, 0.31561905, 0.32685714,\n",
              "        0.33809524, 0.34933333, 0.36057143, 0.37180952, 0.38304762,\n",
              "        0.39428571, 0.40552381, 0.4167619 , 0.428     , 0.4392381 ,\n",
              "        0.45047619, 0.46171429, 0.47295238, 0.48419048, 0.49542857,\n",
              "        0.50666667, 0.51790476, 0.52914286, 0.54038095, 0.55161905,\n",
              "        0.56285714, 0.57409524, 0.58533333, 0.59657143, 0.60780952,\n",
              "        0.61904762]),\n",
              " <BarContainer object of 50 artists>)"
            ]
          },
          "execution_count": 68,
          "metadata": {},
          "output_type": "execute_result"
        },
        {
          "data": {
            "image/png": "[encoded data removed]",
            "text/plain": [
              "<Figure size 640x480 with 1 Axes>"
            ]
          },
          "metadata": {},
          "output_type": "display_data"
        }
      ],
      "source": [
        "plt.hist(normalized_leganes, bins=50, alpha=0.5, label='Leganés', color='grey',edgecolor='black')\n"
      ]
    },
    {
      "cell_type": "code",
      "execution_count": 69,
      "id": "tmQE7Z90H0qw",
      "metadata": {
        "colab": {
          "base_uri": "https://localhost:8080/",
          "height": 612
        },
        "id": "tmQE7Z90H0qw",
        "outputId": "919294a0-1d3c-46a6-9d35-c3df8d02b2ec"
      },
      "outputs": [
        {
          "data": {
            "text/plain": [
              "(array([12.,  0.,  0.,  1., 18., 30., 27., 16.,  6.,  3.,  8.,  8., 10.,\n",
              "        15., 12., 14., 15., 35., 23., 14.,  5.,  5.,  1.,  5.,  0.,  2.,\n",
              "         0.,  2.,  0.,  0.,  0.,  0.,  0.,  0.,  0.,  0.,  2.,  0.,  0.,\n",
              "         0.,  0.,  0.,  0.,  0.,  0.,  0.,  0.,  0.,  0.,  1.]),\n",
              " array([0.  , 0.02, 0.04, 0.06, 0.08, 0.1 , 0.12, 0.14, 0.16, 0.18, 0.2 ,\n",
              "        0.22, 0.24, 0.26, 0.28, 0.3 , 0.32, 0.34, 0.36, 0.38, 0.4 , 0.42,\n",
              "        0.44, 0.46, 0.48, 0.5 , 0.52, 0.54, 0.56, 0.58, 0.6 , 0.62, 0.64,\n",
              "        0.66, 0.68, 0.7 , 0.72, 0.74, 0.76, 0.78, 0.8 , 0.82, 0.84, 0.86,\n",
              "        0.88, 0.9 , 0.92, 0.94, 0.96, 0.98, 1.  ]),\n",
              " <BarContainer object of 50 artists>)"
            ]
          },
          "execution_count": 69,
          "metadata": {},
          "output_type": "execute_result"
        },
        {
          "data": {
            "image/png": "[encoded data removed]",
            "text/plain": [
              "<Figure size 640x480 with 1 Axes>"
            ]
          },
          "metadata": {},
          "output_type": "display_data"
        }
      ],
      "source": [
        "plt.hist(normalized_getafe, bins=50, alpha=0.2, label='Getafe', edgecolor='red')\n"
      ]
    },
    {
      "cell_type": "code",
      "execution_count": 70,
      "id": "4wFCzJHDH5S0",
      "metadata": {
        "colab": {
          "base_uri": "https://localhost:8080/",
          "height": 720
        },
        "id": "4wFCzJHDH5S0",
        "outputId": "559f6ad9-ff2b-4aae-d839-67b997e2d619"
      },
      "outputs": [
        {
          "data": {
            "text/plain": [
              "(array([11., 16., 28., 25., 14., 10.,  2.,  8.,  9.,  9.,  5.,  5.,  4.,\n",
              "        11.,  3.,  5.,  1.,  1.,  3.,  6.,  3.,  1.,  3.,  1.,  1.,  2.,\n",
              "         0.,  0.,  0.,  1.,  1.,  0.,  0.,  0.,  0.,  0.,  0.,  0.,  0.,\n",
              "         0.,  0.,  0.,  0.,  0.,  0.,  0.,  0.,  0.,  0.,  1.]),\n",
              " array([0.08714286, 0.10349524, 0.11984762, 0.1362    , 0.15255238,\n",
              "        0.16890476, 0.18525714, 0.20160952, 0.2179619 , 0.23431429,\n",
              "        0.25066667, 0.26701905, 0.28337143, 0.29972381, 0.31607619,\n",
              "        0.33242857, 0.34878095, 0.36513333, 0.38148571, 0.3978381 ,\n",
              "        0.41419048, 0.43054286, 0.44689524, 0.46324762, 0.4796    ,\n",
              "        0.49595238, 0.51230476, 0.52865714, 0.54500952, 0.5613619 ,\n",
              "        0.57771429, 0.59406667, 0.61041905, 0.62677143, 0.64312381,\n",
              "        0.65947619, 0.67582857, 0.69218095, 0.70853333, 0.72488571,\n",
              "        0.7412381 , 0.75759048, 0.77394286, 0.79029524, 0.80664762,\n",
              "        0.823     , 0.83935238, 0.85570476, 0.87205714, 0.88840952,\n",
              "        0.9047619 ]),\n",
              " <BarContainer object of 50 artists>)"
            ]
          },
          "execution_count": 70,
          "metadata": {},
          "output_type": "execute_result"
        },
        {
          "data": {
            "image/png": "[encoded data removed]",
            "text/plain": [
              "<Figure size 640x480 with 1 Axes>"
            ]
          },
          "metadata": {},
          "output_type": "display_data"
        }
      ],
      "source": [
        "plt.hist(normalized_alcorcon, bins=50, alpha=0.5, label='Alcorcón', edgecolor='green')\n"
      ]
    },
    {
      "cell_type": "markdown",
      "id": "precise-heavy",
      "metadata": {
        "id": "precise-heavy"
      },
      "source": [
        "**TODO: Markdown**. To write here, double-click on this cell, remove this content and place the text you want to write. Then, execute the cell."
      ]
    },
    {
      "cell_type": "markdown",
      "id": "patent-jonathan",
      "metadata": {
        "id": "patent-jonathan"
      },
      "source": [
        "#### Exercise 19. What can you say about the price per square meter (price/m2) between the towns of \"Getafe\" and \"Alcorcón\"? You must use the subset obtained in Exercise 14 (★★☆)\n",
        "\n",
        "Hint: Create a new column called `pps` (price per square meter) and then analyze the values."
      ]
    },
    {
      "cell_type": "code",
      "execution_count": 71,
      "id": "initial-liverpool",
      "metadata": {
        "colab": {
          "base_uri": "https://localhost:8080/",
          "height": 936
        },
        "id": "initial-liverpool",
        "outputId": "f8a24937-fcfd-4cee-fa85-47f162be8bfd"
      },
      "outputs": [
        {
          "data": {
            "text/plain": [
              "'pps_getafe'"
            ]
          },
          "metadata": {},
          "output_type": "display_data"
        },
        {
          "data": {
            "text/plain": [
              "169      1487.179487\n",
              "232      2113.846154\n",
              "233      1632.530120\n",
              "269      1611.290323\n",
              "381      1625.000000\n",
              "            ...     \n",
              "14999    1738.095238\n",
              "15002    2331.893443\n",
              "15034    3262.773723\n",
              "15087    3097.043478\n",
              "15117    2946.428571\n",
              "Length: 290, dtype: float64"
            ]
          },
          "metadata": {},
          "output_type": "display_data"
        },
        {
          "data": {
            "text/plain": [
              "'pps_alcorcon'"
            ]
          },
          "metadata": {},
          "output_type": "display_data"
        },
        {
          "data": {
            "text/plain": [
              "85       2140.000000\n",
              "109      2992.957746\n",
              "765      2275.229358\n",
              "816      3114.583333\n",
              "827      1844.615385\n",
              "            ...     \n",
              "14896    2076.923077\n",
              "15144    3548.387097\n",
              "15166    2397.260274\n",
              "15191    3117.647059\n",
              "15223    3023.529412\n",
              "Length: 190, dtype: float64"
            ]
          },
          "metadata": {},
          "output_type": "display_data"
        }
      ],
      "source": [
        "# TODO\n",
        "#price_getafe =ds[ds['level5']=='Getafe']['price']\n",
        "#display(price_getafe)\n",
        "#price_alcorcon =ds[ds['level5']=='Alcorcón']['price']\n",
        "#display(price_alcorcon)\n",
        "\n",
        "#surface_getafe = ds[ds['level5']=='Getafe']['surface']\n",
        "#surface_alcorcon = ds[ds['level5']=='Alcorcón']['surface']\n",
        "\n",
        "pps_getafe = ds[ds['level5']=='Getafe']['price'] / ds[ds['level5']=='Getafe']['surface'] #precio por metro cuadrado Getafe\n",
        "display('pps_getafe', pps_getafe)\n",
        "pps_alcorcon= ds[ds['level5']=='Alcorcón']['price'] / ds[ds['level5']=='Alcorcón']['surface'] #precio por metro cuadrado Alcorcón\n",
        "display('pps_alcorcon', pps_alcorcon)"
      ]
    },
    {
      "cell_type": "code",
      "execution_count": 72,
      "id": "n6BVlcnxYRfE",
      "metadata": {
        "colab": {
          "base_uri": "https://localhost:8080/",
          "height": 472
        },
        "id": "n6BVlcnxYRfE",
        "outputId": "f0b181df-9c2c-488a-a0e5-4d64dc4942a6"
      },
      "outputs": [
        {
          "data": {
            "image/png": "[encoded data removed]",
            "text/plain": [
              "<Figure size 640x480 with 1 Axes>"
            ]
          },
          "metadata": {},
          "output_type": "display_data"
        }
      ],
      "source": [
        "plt.hist(pps_getafe, bins=50, alpha=0.5, label='Getafe', edgecolor='blue')\n",
        "plt.hist(pps_alcorcon, bins=50, alpha=0.5, label='Alcorcón', color='grey',edgecolor='black')\n",
        "\n",
        "\n",
        "\n",
        "plt.xlabel('Precios por poblacion: Getafe y Alcorcón')\n",
        "plt.ylabel('Frequencia')\n",
        "plt.title('Histogramas superpuestos')\n",
        "plt.legend()\n",
        "plt.show()"
      ]
    },
    {
      "cell_type": "markdown",
      "id": "enhanced-moscow",
      "metadata": {
        "id": "enhanced-moscow"
      },
      "source": [
        "#### Exercise 20. Make the same plot for 4 different populations (level5 column) and rearrange them on the same graph. You must use the subset obtained in Exercise 14 (★★☆)\n",
        "\n",
        "Hint: Make a scatter plot of each population using subplots."
      ]
    },
    {
      "cell_type": "code",
      "execution_count": 73,
      "id": "BnSTNTz6Y8R8",
      "metadata": {
        "id": "BnSTNTz6Y8R8"
      },
      "outputs": [],
      "source": [
        "#Precio y supericie da cada población: 'Fuenlabrada', 'Leganés', 'Getafe', 'Alcorcón'\n",
        "\n",
        "\n",
        "price_fuenlabrada= ds[ds['level5']=='Fuenlabrada']['price']\n",
        "surface_fuenlabrada= ds[ds['level5']=='Fuenlabrada']['surface']\n",
        "\n",
        "price_leganes= ds[ds['level5']=='Leganés']['price']\n",
        "surface_leganes= ds[ds['level5']=='Leganés']['surface']\n",
        "\n",
        "price_getafe= ds[ds['level5']=='Getafe']['price']\n",
        "surface_getafe= ds[ds['level5']=='Getafe']['surface']\n",
        "\n",
        "price_alcorcon= ds[ds['level5']=='Alcorcón']['price']\n",
        "surface_alcorcon= ds[ds['level5']=='Alcorcón']['surface']\n",
        "\n",
        "\n",
        "#type(surface_fuenlabrada)\n"
      ]
    },
    {
      "cell_type": "code",
      "execution_count": 74,
      "id": "XEU0gjpYt9iy",
      "metadata": {
        "colab": {
          "base_uri": "https://localhost:8080/",
          "height": 1000
        },
        "id": "XEU0gjpYt9iy",
        "outputId": "7d1c160e-fe6f-4cc1-c803-0d22cb851a7e"
      },
      "outputs": [
        {
          "name": "stderr",
          "output_type": "stream",
          "text": [
            "/tmp/ipykernel_7643/2739194051.py:10: UserWarning: No artists with labels found to put in legend.  Note that artists whose label start with an underscore are ignored when legend() is called with no argument.\n",
            "  axs[0].legend()\n",
            "/tmp/ipykernel_7643/2739194051.py:16: UserWarning: No artists with labels found to put in legend.  Note that artists whose label start with an underscore are ignored when legend() is called with no argument.\n",
            "  axs[1].legend()\n",
            "/tmp/ipykernel_7643/2739194051.py:22: UserWarning: No artists with labels found to put in legend.  Note that artists whose label start with an underscore are ignored when legend() is called with no argument.\n",
            "  axs[2].legend()\n",
            "/tmp/ipykernel_7643/2739194051.py:28: UserWarning: No artists with labels found to put in legend.  Note that artists whose label start with an underscore are ignored when legend() is called with no argument.\n",
            "  axs[3].legend()\n"
          ]
        },
        {
          "data": {
            "image/png": "[encoded data removed]",
            "text/plain": [
              "<Figure size 1200x1000 with 4 Axes>"
            ]
          },
          "metadata": {},
          "output_type": "display_data"
        }
      ],
      "source": [
        "import matplotlib.pyplot as plt\n",
        "\n",
        "fig, axs = plt.subplots(2, 2, figsize=(12, 10)) # 1 row, 2 columns\n",
        "axs = axs.flatten()\n",
        "\n",
        "axs[0].scatter(surface_fuenlabrada, price_fuenlabrada, color='blue', alpha=0.7)\n",
        "axs[0].set_title('Scatter Plot (Fuenlabrada)')\n",
        "axs[0].set_xlabel('Superficie')\n",
        "axs[0].set_ylabel('Costo')\n",
        "axs[0].legend()\n",
        "\n",
        "axs[1].scatter(surface_leganes, price_leganes, color='blue', alpha=0.7)\n",
        "axs[1].set_title('Scatter Plot (Fuenlabrada)')\n",
        "axs[1].set_xlabel('Superficie')\n",
        "axs[1].set_ylabel('Costo')\n",
        "axs[1].legend()\n",
        "\n",
        "axs[2].scatter(surface_getafe, price_getafe, color='blue', alpha=0.7)\n",
        "axs[2].set_title('Scatter Plot (Getafe)')\n",
        "axs[2].set_xlabel('Superficie')\n",
        "axs[2].set_ylabel('Costo')\n",
        "axs[2].legend()\n",
        "\n",
        "axs[3].scatter(surface_alcorcon, price_alcorcon, color='blue', alpha=0.7)\n",
        "axs[3].set_title('Scatter Plot (Alcorcón)')\n",
        "axs[3].set_xlabel('Superficie')\n",
        "axs[3].set_ylabel('Costo')\n",
        "axs[3].legend()\n",
        "\n",
        "plt.tight_layout()\n",
        "plt.show()"
      ]
    },
    {
      "cell_type": "markdown",
      "id": "blocked-effects",
      "metadata": {
        "id": "blocked-effects"
      },
      "source": [
        "#### Exercise 21. Make a plot of the coordinates (latitude and longitude columns) of the south belt of Madrid by color of each population (you must use the subset obtained in Exercise 14) (★★★★)\n",
        "\n",
        "Execute the following cell, and then start coding in the next one. You must implement a simple code that transforms the coordinates columns in a Python dictionary (add more information if needed) and then add it to the map"
      ]
    },
    {
      "cell_type": "code",
      "execution_count": 75,
      "id": "headed-privacy",
      "metadata": {
        "colab": {
          "base_uri": "https://localhost:8080/",
          "height": 421,
          "referenced_widgets": [
            "c52d1aaaa4be4c53a7d96ae3ea5d4caa",
            "ca508231bf3d4d298fba230e803b3f4d",
            "eb71a00a94534af1ad6fcf8b14fc325d",
            "94bc2c9edf85484699238476c02352e0",
            "63e4f26ac8cd4d0f918e6935b7d50808",
            "406c3f5e920c47199e8afc912f0fb1d3",
            "ddbdc9db4b66474fba51b81dc455fd55",
            "2c6697a383684bc7a93d1a7119f74c46"
          ]
        },
        "id": "headed-privacy",
        "outputId": "6fef81d6-dfae-4407-cee3-40f2bb946a0c"
      },
      "outputs": [
        {
          "data": {
            "application/vnd.jupyter.widget-view+json": {
              "model_id": "b5679c4fc6e349ceac17f6dd2055727e",
              "version_major": 2,
              "version_minor": 0
            },
            "text/plain": [
              "Map(center=[40.35, -3.8], controls=(ZoomControl(options=['position', 'zoom_in_text', 'zoom_in_title', 'zoom_ou…"
            ]
          },
          "execution_count": 75,
          "metadata": {},
          "output_type": "execute_result"
        }
      ],
      "source": [
        "from ipyleaflet import Map, basemaps\n",
        "\n",
        "# Map centered on south west part of Madrid\n",
        "map = Map(center = (40.35, -3.8), zoom = 11.5, min_zoom = 1, max_zoom = 20,\n",
        "    basemap=basemaps.OpenStreetMap.Mapnik)\n",
        "map"
      ]
    },
    {
      "cell_type": "code",
      "execution_count": 76,
      "id": "4tUk2n1JRFPb",
      "metadata": {
        "colab": {
          "base_uri": "https://localhost:8080/",
          "height": 477,
          "referenced_widgets": [
            "78edfead90ae4b16b128560f0167a7ab",
            "0e9a1ae1c18e4ca5ae63573482c06599",
            "7cc7688a3e1d4dc7864bf808230322a4",
            "feee8a2cbc7b43ab810de1b8bb9d0324",
            "a0795173a2b5413c932a52cb6567ed27",
            "eed07b359ad240d0b10c41cd9305a727",
            "4fb3f17690444f19b2afb989924ff214",
            "319727e515b84c7ea18236765b9ae15c",
            "b655c8bfa4c844de89d8155c4a9a834f",
            "9679691ce12d42d491646d0ffda03c29",
            "d625f42448344fb6bce29f7dc2d28286",
            "6c41cb55a72840b2bd610c16da09ff32",
            "6deb959ab630471994a87c0a535e1922"
          ]
        },
        "id": "4tUk2n1JRFPb",
        "outputId": "209b8714-469f-4066-f502-04eb9597f2aa"
      },
      "outputs": [
        {
          "name": "stderr",
          "output_type": "stream",
          "text": [
            "/tmp/ipykernel_7643/2866583074.py:17: MatplotlibDeprecationWarning: The get_cmap function was deprecated in Matplotlib 3.7 and will be removed in 3.11. Use ``matplotlib.colormaps[name]`` or ``matplotlib.colormaps.get_cmap()`` or ``pyplot.get_cmap()`` instead.\n",
            "  cmap = cm.get_cmap(\"plasma\")\n"
          ]
        },
        {
          "data": {
            "application/vnd.jupyter.widget-view+json": {
              "model_id": "7839cf7a59da4fe585b766450a01b289",
              "version_major": 2,
              "version_minor": 0
            },
            "text/plain": [
              "Map(center=[40.33, -3.8], controls=(ZoomControl(options=['position', 'zoom_in_text', 'zoom_in_title', 'zoom_ou…"
            ]
          },
          "execution_count": 76,
          "metadata": {},
          "output_type": "execute_result"
        }
      ],
      "source": [
        "from ipyleaflet import Map, basemaps, Circle, LayerGroup\n",
        "import matplotlib.cm as cm\n",
        "import matplotlib.colors as colors\n",
        "\n",
        "lat_long = {\n",
        "    \"Fuenlabrada\": {\"latitud\": 40.2899, \"longitud\": -3.805, \"pop\": 1},\n",
        "    \"Getafe\": {\"latitud\": 40.3079, \"longitud\": -3.7319, \"pop\": 2},\n",
        "    \"Leganés\": {\"latitud\": 40.3268, \"longitud\": -3.763489, \"pop\": 3},\n",
        "    \"Alcorcón\": {\"latitud\": 40.35, \"longitud\": -3.8200, \"pop\": 4}\n",
        "}\n",
        "\n",
        "map2 = Map(center=(40.33, -3.8), zoom=11.5, basemap=basemaps.OpenStreetMap.Mapnik)\n",
        "\n",
        "\n",
        "populations_ = [info[\"pop\"] for info in lat_long.values()]\n",
        "norm = colors.Normalize(vmin=min(populations_), vmax=max(populations_))\n",
        "cmap = cm.get_cmap(\"plasma\")\n",
        "\n",
        "\n",
        "circulos = []\n",
        "\n",
        "for madrid, info in lat_long.items():\n",
        "    color = colors.to_hex(cmap(norm(info[\"pop\"])))\n",
        "\n",
        "    area_circulo = Circle(\n",
        "        location=(info[\"latitud\"], info[\"longitud\"]),\n",
        "        color=color,\n",
        "        radius=1500,\n",
        "        fill_opacity=0.2,\n",
        "        name=madrid\n",
        "    )\n",
        "    circulos.append(area_circulo)\n",
        "\n",
        "grupo = LayerGroup(layers=circulos)\n",
        "map2.add_layer(grupo)\n",
        "map2\n"
      ]
    }
  ],
  "metadata": {
    "colab": {
      "provenance": []
    },
    "kernelspec": {
      "display_name": "Python 3",
      "language": "python",
      "name": "python3"
    },
    "language_info": {
      "codemirror_mode": {
        "name": "ipython",
        "version": 3
      },
      "file_extension": ".py",
      "mimetype": "text/x-python",
      "name": "python",
      "nbconvert_exporter": "python",
      "pygments_lexer": "ipython3",
      "version": "3.11.4"
    },
    "widgets": {
      "application/vnd.jupyter.widget-state+json": {
        "0e9a1ae1c18e4ca5ae63573482c06599": {
          "model_module": "jupyter-leaflet",
          "model_module_version": "^0.20",
          "model_name": "LeafletZoomControlModel",
          "state": {
            "_model_module": "jupyter-leaflet",
            "_model_module_version": "^0.20",
            "_model_name": "LeafletZoomControlModel",
            "_view_count": null,
            "_view_module": "jupyter-leaflet",
            "_view_module_version": "^0.20",
            "_view_name": "LeafletZoomControlView",
            "options": [
              "position",
              "zoom_in_text",
              "zoom_in_title",
              "zoom_out_text",
              "zoom_out_title"
            ],
            "position": "topleft",
            "zoom_in_text": "+",
            "zoom_in_title": "Zoom in",
            "zoom_out_text": "-",
            "zoom_out_title": "Zoom out"
          }
        },
        "2c6697a383684bc7a93d1a7119f74c46": {
          "model_module": "jupyter-leaflet",
          "model_module_version": "^0.20",
          "model_name": "LeafletMapStyleModel",
          "state": {
            "_model_module": "jupyter-leaflet",
            "_model_module_version": "^0.20",
            "_model_name": "LeafletMapStyleModel",
            "_view_count": null,
            "_view_module": "@jupyter-widgets/base",
            "_view_module_version": "1.2.0",
            "_view_name": "StyleView",
            "cursor": "grab"
          }
        },
        "319727e515b84c7ea18236765b9ae15c": {
          "model_module": "@jupyter-widgets/base",
          "model_module_version": "1.2.0",
          "model_name": "LayoutModel",
          "state": {
            "_model_module": "@jupyter-widgets/base",
            "_model_module_version": "1.2.0",
            "_model_name": "LayoutModel",
            "_view_count": null,
            "_view_module": "@jupyter-widgets/base",
            "_view_module_version": "1.2.0",
            "_view_name": "LayoutView",
            "align_content": null,
            "align_items": null,
            "align_self": null,
            "border": null,
            "bottom": null,
            "display": null,
            "flex": null,
            "flex_flow": null,
            "grid_area": null,
            "grid_auto_columns": null,
            "grid_auto_flow": null,
            "grid_auto_rows": null,
            "grid_column": null,
            "grid_gap": null,
            "grid_row": null,
            "grid_template_areas": null,
            "grid_template_columns": null,
            "grid_template_rows": null,
            "height": null,
            "justify_content": null,
            "justify_items": null,
            "left": null,
            "margin": null,
            "max_height": null,
            "max_width": null,
            "min_height": null,
            "min_width": null,
            "object_fit": null,
            "object_position": null,
            "order": null,
            "overflow": null,
            "overflow_x": null,
            "overflow_y": null,
            "padding": null,
            "right": null,
            "top": null,
            "visibility": null,
            "width": null
          }
        },
        "406c3f5e920c47199e8afc912f0fb1d3": {
          "model_module": "jupyter-leaflet",
          "model_module_version": "^0.20",
          "model_name": "LeafletTileLayerModel",
          "state": {
            "_model_module": "jupyter-leaflet",
            "_model_module_version": "^0.20",
            "_model_name": "LeafletTileLayerModel",
            "_view_count": null,
            "_view_module": "jupyter-leaflet",
            "_view_module_version": "^0.20",
            "_view_name": "LeafletTileLayerView",
            "attribution": "&copy; <a href=\"https://www.openstreetmap.org/copyright\">OpenStreetMap</a> contributors",
            "base": true,
            "bottom": true,
            "bounds": null,
            "detect_retina": false,
            "loading": false,
            "max_native_zoom": null,
            "max_zoom": 19,
            "min_native_zoom": null,
            "min_zoom": 1,
            "name": "OpenStreetMap.Mapnik",
            "no_wrap": false,
            "opacity": 1,
            "options": [
              "attribution",
              "bounds",
              "detect_retina",
              "max_native_zoom",
              "max_zoom",
              "min_native_zoom",
              "min_zoom",
              "no_wrap",
              "pm_ignore",
              "tile_size",
              "tms",
              "zoom_offset"
            ],
            "pane": "",
            "pm_ignore": true,
            "popup": null,
            "popup_max_height": null,
            "popup_max_width": 300,
            "popup_min_width": 50,
            "show_loading": false,
            "snap_ignore": true,
            "subitems": [],
            "tile_size": 256,
            "tms": false,
            "url": "https://tile.openstreetmap.org/{z}/{x}/{y}.png",
            "visible": true,
            "zoom_offset": 0
          }
        },
        "4fb3f17690444f19b2afb989924ff214": {
          "model_module": "jupyter-leaflet",
          "model_module_version": "^0.20",
          "model_name": "LeafletLayerGroupModel",
          "state": {
            "_model_module": "jupyter-leaflet",
            "_model_module_version": "^0.20",
            "_model_name": "LeafletLayerGroupModel",
            "_view_count": null,
            "_view_module": "jupyter-leaflet",
            "_view_module_version": "^0.20",
            "_view_name": "LeafletLayerGroupView",
            "base": false,
            "bottom": false,
            "layers": [
              "IPY_MODEL_9679691ce12d42d491646d0ffda03c29",
              "IPY_MODEL_d625f42448344fb6bce29f7dc2d28286",
              "IPY_MODEL_6c41cb55a72840b2bd610c16da09ff32",
              "IPY_MODEL_6deb959ab630471994a87c0a535e1922"
            ],
            "name": "",
            "options": [
              "pm_ignore"
            ],
            "pane": "",
            "pm_ignore": true,
            "popup": null,
            "popup_max_height": null,
            "popup_max_width": 300,
            "popup_min_width": 50,
            "snap_ignore": true,
            "subitems": []
          }
        },
        "63e4f26ac8cd4d0f918e6935b7d50808": {
          "model_module": "jupyter-leaflet",
          "model_module_version": "^0.20",
          "model_name": "LeafletMapStyleModel",
          "state": {
            "_model_module": "jupyter-leaflet",
            "_model_module_version": "^0.20",
            "_model_name": "LeafletMapStyleModel",
            "_view_count": null,
            "_view_module": "@jupyter-widgets/base",
            "_view_module_version": "1.2.0",
            "_view_name": "StyleView",
            "cursor": "move"
          }
        },
        "6c41cb55a72840b2bd610c16da09ff32": {
          "model_module": "jupyter-leaflet",
          "model_module_version": "^0.20",
          "model_name": "LeafletCircleModel",
          "state": {
            "_model_module": "jupyter-leaflet",
            "_model_module_version": "^0.20",
            "_model_name": "LeafletCircleModel",
            "_view_count": null,
            "_view_module": "jupyter-leaflet",
            "_view_module_version": "^0.20",
            "_view_name": "LeafletCircleView",
            "base": false,
            "bottom": false,
            "color": "#ed7953",
            "dash_array": null,
            "fill": true,
            "fill_color": null,
            "fill_opacity": 0.2,
            "line_cap": "round",
            "line_join": "round",
            "location": [
              40.3268,
              -3.763489
            ],
            "name": "Leganés",
            "opacity": 1,
            "options": [
              "color",
              "dash_array",
              "fill",
              "fill_color",
              "fill_opacity",
              "line_cap",
              "line_join",
              "opacity",
              "pm_ignore",
              "pointer_events",
              "radius",
              "stroke",
              "weight"
            ],
            "pane": "",
            "pm_ignore": true,
            "pointer_events": "",
            "popup": null,
            "popup_max_height": null,
            "popup_max_width": 300,
            "popup_min_width": 50,
            "radius": 1500,
            "snap_ignore": true,
            "stroke": true,
            "subitems": [],
            "weight": 5
          }
        },
        "6deb959ab630471994a87c0a535e1922": {
          "model_module": "jupyter-leaflet",
          "model_module_version": "^0.20",
          "model_name": "LeafletCircleModel",
          "state": {
            "_model_module": "jupyter-leaflet",
            "_model_module_version": "^0.20",
            "_model_name": "LeafletCircleModel",
            "_view_count": null,
            "_view_module": "jupyter-leaflet",
            "_view_module_version": "^0.20",
            "_view_name": "LeafletCircleView",
            "base": false,
            "bottom": false,
            "color": "#f0f921",
            "dash_array": null,
            "fill": true,
            "fill_color": null,
            "fill_opacity": 0.2,
            "line_cap": "round",
            "line_join": "round",
            "location": [
              40.35,
              -3.82
            ],
            "name": "Alcorcón",
            "opacity": 1,
            "options": [
              "color",
              "dash_array",
              "fill",
              "fill_color",
              "fill_opacity",
              "line_cap",
              "line_join",
              "opacity",
              "pm_ignore",
              "pointer_events",
              "radius",
              "stroke",
              "weight"
            ],
            "pane": "",
            "pm_ignore": true,
            "pointer_events": "",
            "popup": null,
            "popup_max_height": null,
            "popup_max_width": 300,
            "popup_min_width": 50,
            "radius": 1500,
            "snap_ignore": true,
            "stroke": true,
            "subitems": [],
            "weight": 5
          }
        },
        "78edfead90ae4b16b128560f0167a7ab": {
          "model_module": "jupyter-leaflet",
          "model_module_version": "^0.20",
          "model_name": "LeafletMapModel",
          "state": {
            "_dom_classes": [],
            "_model_module": "jupyter-leaflet",
            "_model_module_version": "^0.20",
            "_model_name": "LeafletMapModel",
            "_view_count": null,
            "_view_module": "jupyter-leaflet",
            "_view_module_version": "^0.20",
            "_view_name": "LeafletMapView",
            "bottom": 395911,
            "bounce_at_zoom_limits": true,
            "box_zoom": true,
            "center": [
              40.33,
              -3.8
            ],
            "close_popup_on_click": true,
            "controls": [
              "IPY_MODEL_0e9a1ae1c18e4ca5ae63573482c06599",
              "IPY_MODEL_7cc7688a3e1d4dc7864bf808230322a4"
            ],
            "crs": {
              "custom": false,
              "name": "EPSG3857"
            },
            "default_style": "IPY_MODEL_feee8a2cbc7b43ab810de1b8bb9d0324",
            "double_click_zoom": true,
            "dragging": true,
            "dragging_style": "IPY_MODEL_a0795173a2b5413c932a52cb6567ed27",
            "east": -3.558197021484375,
            "fullscreen": false,
            "inertia": true,
            "inertia_deceleration": 3000,
            "inertia_max_speed": 1500,
            "interpolation": "bilinear",
            "keyboard": true,
            "keyboard_pan_offset": 80,
            "keyboard_zoom_offset": 1,
            "layers": [
              "IPY_MODEL_eed07b359ad240d0b10c41cd9305a727",
              "IPY_MODEL_4fb3f17690444f19b2afb989924ff214"
            ],
            "layout": "IPY_MODEL_319727e515b84c7ea18236765b9ae15c",
            "left": 512515,
            "max_zoom": null,
            "min_zoom": null,
            "modisdate": "2025-06-28",
            "north": 40.382382140167486,
            "options": [
              "bounce_at_zoom_limits",
              "box_zoom",
              "center",
              "close_popup_on_click",
              "double_click_zoom",
              "dragging",
              "fullscreen",
              "inertia",
              "inertia_deceleration",
              "inertia_max_speed",
              "interpolation",
              "keyboard",
              "keyboard_pan_offset",
              "keyboard_zoom_offset",
              "max_zoom",
              "min_zoom",
              "prefer_canvas",
              "scroll_wheel_zoom",
              "tap",
              "tap_tolerance",
              "touch_zoom",
              "world_copy_jump",
              "zoom",
              "zoom_animation_threshold",
              "zoom_delta",
              "zoom_snap"
            ],
            "panes": {},
            "prefer_canvas": false,
            "right": 513924,
            "scroll_wheel_zoom": false,
            "south": 40.27769219887392,
            "style": "IPY_MODEL_b655c8bfa4c844de89d8155c4a9a834f",
            "tap": true,
            "tap_tolerance": 15,
            "top": 395511,
            "touch_zoom": true,
            "west": -4.041938781738282,
            "window_url": "https://0z3ysvfb5o1j-496ff2e9c6d22116-0-colab.googleusercontent.com/outputframe.html?vrz=colab_20250626-060053_RC00_776069479",
            "world_copy_jump": false,
            "zoom": 11.5,
            "zoom_animation_threshold": 4,
            "zoom_delta": 1,
            "zoom_snap": 1
          }
        },
        "7cc7688a3e1d4dc7864bf808230322a4": {
          "model_module": "jupyter-leaflet",
          "model_module_version": "^0.20",
          "model_name": "LeafletAttributionControlModel",
          "state": {
            "_model_module": "jupyter-leaflet",
            "_model_module_version": "^0.20",
            "_model_name": "LeafletAttributionControlModel",
            "_view_count": null,
            "_view_module": "jupyter-leaflet",
            "_view_module_version": "^0.20",
            "_view_name": "LeafletAttributionControlView",
            "options": [
              "position",
              "prefix"
            ],
            "position": "bottomright",
            "prefix": "ipyleaflet"
          }
        },
        "94bc2c9edf85484699238476c02352e0": {
          "model_module": "jupyter-leaflet",
          "model_module_version": "^0.20",
          "model_name": "LeafletMapStyleModel",
          "state": {
            "_model_module": "jupyter-leaflet",
            "_model_module_version": "^0.20",
            "_model_name": "LeafletMapStyleModel",
            "_view_count": null,
            "_view_module": "@jupyter-widgets/base",
            "_view_module_version": "1.2.0",
            "_view_name": "StyleView",
            "cursor": "grab"
          }
        },
        "9679691ce12d42d491646d0ffda03c29": {
          "model_module": "jupyter-leaflet",
          "model_module_version": "^0.20",
          "model_name": "LeafletCircleModel",
          "state": {
            "_model_module": "jupyter-leaflet",
            "_model_module_version": "^0.20",
            "_model_name": "LeafletCircleModel",
            "_view_count": null,
            "_view_module": "jupyter-leaflet",
            "_view_module_version": "^0.20",
            "_view_name": "LeafletCircleView",
            "base": false,
            "bottom": false,
            "color": "#0d0887",
            "dash_array": null,
            "fill": true,
            "fill_color": null,
            "fill_opacity": 0.2,
            "line_cap": "round",
            "line_join": "round",
            "location": [
              40.2899,
              -3.805
            ],
            "name": "Fuenlabrada",
            "opacity": 1,
            "options": [
              "color",
              "dash_array",
              "fill",
              "fill_color",
              "fill_opacity",
              "line_cap",
              "line_join",
              "opacity",
              "pm_ignore",
              "pointer_events",
              "radius",
              "stroke",
              "weight"
            ],
            "pane": "",
            "pm_ignore": true,
            "pointer_events": "",
            "popup": null,
            "popup_max_height": null,
            "popup_max_width": 300,
            "popup_min_width": 50,
            "radius": 1500,
            "snap_ignore": true,
            "stroke": true,
            "subitems": [],
            "weight": 5
          }
        },
        "a0795173a2b5413c932a52cb6567ed27": {
          "model_module": "jupyter-leaflet",
          "model_module_version": "^0.20",
          "model_name": "LeafletMapStyleModel",
          "state": {
            "_model_module": "jupyter-leaflet",
            "_model_module_version": "^0.20",
            "_model_name": "LeafletMapStyleModel",
            "_view_count": null,
            "_view_module": "@jupyter-widgets/base",
            "_view_module_version": "1.2.0",
            "_view_name": "StyleView",
            "cursor": "move"
          }
        },
        "b655c8bfa4c844de89d8155c4a9a834f": {
          "model_module": "jupyter-leaflet",
          "model_module_version": "^0.20",
          "model_name": "LeafletMapStyleModel",
          "state": {
            "_model_module": "jupyter-leaflet",
            "_model_module_version": "^0.20",
            "_model_name": "LeafletMapStyleModel",
            "_view_count": null,
            "_view_module": "@jupyter-widgets/base",
            "_view_module_version": "1.2.0",
            "_view_name": "StyleView",
            "cursor": "grab"
          }
        },
        "c52d1aaaa4be4c53a7d96ae3ea5d4caa": {
          "model_module": "jupyter-leaflet",
          "model_module_version": "^0.20",
          "model_name": "LeafletMapModel",
          "state": {
            "_dom_classes": [],
            "_model_module": "jupyter-leaflet",
            "_model_module_version": "^0.20",
            "_model_name": "LeafletMapModel",
            "_view_count": null,
            "_view_module": "jupyter-leaflet",
            "_view_module_version": "^0.20",
            "_view_name": "LeafletMapView",
            "bottom": 395835,
            "bounce_at_zoom_limits": true,
            "box_zoom": true,
            "center": [
              40.35,
              -3.8
            ],
            "close_popup_on_click": true,
            "controls": [
              "IPY_MODEL_ca508231bf3d4d298fba230e803b3f4d",
              "IPY_MODEL_eb71a00a94534af1ad6fcf8b14fc325d"
            ],
            "crs": {
              "custom": false,
              "name": "EPSG3857"
            },
            "default_style": "IPY_MODEL_94bc2c9edf85484699238476c02352e0",
            "double_click_zoom": true,
            "dragging": true,
            "dragging_style": "IPY_MODEL_63e4f26ac8cd4d0f918e6935b7d50808",
            "east": -3.558197021484375,
            "fullscreen": false,
            "inertia": true,
            "inertia_deceleration": 3000,
            "inertia_max_speed": 1500,
            "interpolation": "bilinear",
            "keyboard": true,
            "keyboard_pan_offset": 80,
            "keyboard_zoom_offset": 1,
            "layers": [
              "IPY_MODEL_406c3f5e920c47199e8afc912f0fb1d3"
            ],
            "layout": "IPY_MODEL_ddbdc9db4b66474fba51b81dc455fd55",
            "left": 512515,
            "max_zoom": 20,
            "min_zoom": 1,
            "modisdate": "2025-06-28",
            "north": 40.40225486757065,
            "options": [
              "bounce_at_zoom_limits",
              "box_zoom",
              "center",
              "close_popup_on_click",
              "double_click_zoom",
              "dragging",
              "fullscreen",
              "inertia",
              "inertia_deceleration",
              "inertia_max_speed",
              "interpolation",
              "keyboard",
              "keyboard_pan_offset",
              "keyboard_zoom_offset",
              "max_zoom",
              "min_zoom",
              "prefer_canvas",
              "scroll_wheel_zoom",
              "tap",
              "tap_tolerance",
              "touch_zoom",
              "world_copy_jump",
              "zoom",
              "zoom_animation_threshold",
              "zoom_delta",
              "zoom_snap"
            ],
            "panes": {},
            "prefer_canvas": false,
            "right": 513924,
            "scroll_wheel_zoom": false,
            "south": 40.297595783346516,
            "style": "IPY_MODEL_2c6697a383684bc7a93d1a7119f74c46",
            "tap": true,
            "tap_tolerance": 15,
            "top": 395435,
            "touch_zoom": true,
            "west": -4.041938781738282,
            "window_url": "https://0z3ysvfb5o1j-496ff2e9c6d22116-0-colab.googleusercontent.com/outputframe.html?vrz=colab_20250626-060053_RC00_776069479",
            "world_copy_jump": false,
            "zoom": 11.5,
            "zoom_animation_threshold": 4,
            "zoom_delta": 1,
            "zoom_snap": 1
          }
        },
        "ca508231bf3d4d298fba230e803b3f4d": {
          "model_module": "jupyter-leaflet",
          "model_module_version": "^0.20",
          "model_name": "LeafletZoomControlModel",
          "state": {
            "_model_module": "jupyter-leaflet",
            "_model_module_version": "^0.20",
            "_model_name": "LeafletZoomControlModel",
            "_view_count": null,
            "_view_module": "jupyter-leaflet",
            "_view_module_version": "^0.20",
            "_view_name": "LeafletZoomControlView",
            "options": [
              "position",
              "zoom_in_text",
              "zoom_in_title",
              "zoom_out_text",
              "zoom_out_title"
            ],
            "position": "topleft",
            "zoom_in_text": "+",
            "zoom_in_title": "Zoom in",
            "zoom_out_text": "-",
            "zoom_out_title": "Zoom out"
          }
        },
        "d625f42448344fb6bce29f7dc2d28286": {
          "model_module": "jupyter-leaflet",
          "model_module_version": "^0.20",
          "model_name": "LeafletCircleModel",
          "state": {
            "_model_module": "jupyter-leaflet",
            "_model_module_version": "^0.20",
            "_model_name": "LeafletCircleModel",
            "_view_count": null,
            "_view_module": "jupyter-leaflet",
            "_view_module_version": "^0.20",
            "_view_name": "LeafletCircleView",
            "base": false,
            "bottom": false,
            "color": "#9c179e",
            "dash_array": null,
            "fill": true,
            "fill_color": null,
            "fill_opacity": 0.2,
            "line_cap": "round",
            "line_join": "round",
            "location": [
              40.3079,
              -3.7319
            ],
            "name": "Getafe",
            "opacity": 1,
            "options": [
              "color",
              "dash_array",
              "fill",
              "fill_color",
              "fill_opacity",
              "line_cap",
              "line_join",
              "opacity",
              "pm_ignore",
              "pointer_events",
              "radius",
              "stroke",
              "weight"
            ],
            "pane": "",
            "pm_ignore": true,
            "pointer_events": "",
            "popup": null,
            "popup_max_height": null,
            "popup_max_width": 300,
            "popup_min_width": 50,
            "radius": 1500,
            "snap_ignore": true,
            "stroke": true,
            "subitems": [],
            "weight": 5
          }
        },
        "ddbdc9db4b66474fba51b81dc455fd55": {
          "model_module": "@jupyter-widgets/base",
          "model_module_version": "1.2.0",
          "model_name": "LayoutModel",
          "state": {
            "_model_module": "@jupyter-widgets/base",
            "_model_module_version": "1.2.0",
            "_model_name": "LayoutModel",
            "_view_count": null,
            "_view_module": "@jupyter-widgets/base",
            "_view_module_version": "1.2.0",
            "_view_name": "LayoutView",
            "align_content": null,
            "align_items": null,
            "align_self": null,
            "border": null,
            "bottom": null,
            "display": null,
            "flex": null,
            "flex_flow": null,
            "grid_area": null,
            "grid_auto_columns": null,
            "grid_auto_flow": null,
            "grid_auto_rows": null,
            "grid_column": null,
            "grid_gap": null,
            "grid_row": null,
            "grid_template_areas": null,
            "grid_template_columns": null,
            "grid_template_rows": null,
            "height": null,
            "justify_content": null,
            "justify_items": null,
            "left": null,
            "margin": null,
            "max_height": null,
            "max_width": null,
            "min_height": null,
            "min_width": null,
            "object_fit": null,
            "object_position": null,
            "order": null,
            "overflow": null,
            "overflow_x": null,
            "overflow_y": null,
            "padding": null,
            "right": null,
            "top": null,
            "visibility": null,
            "width": null
          }
        },
        "eb71a00a94534af1ad6fcf8b14fc325d": {
          "model_module": "jupyter-leaflet",
          "model_module_version": "^0.20",
          "model_name": "LeafletAttributionControlModel",
          "state": {
            "_model_module": "jupyter-leaflet",
            "_model_module_version": "^0.20",
            "_model_name": "LeafletAttributionControlModel",
            "_view_count": null,
            "_view_module": "jupyter-leaflet",
            "_view_module_version": "^0.20",
            "_view_name": "LeafletAttributionControlView",
            "options": [
              "position",
              "prefix"
            ],
            "position": "bottomright",
            "prefix": "ipyleaflet"
          }
        },
        "eed07b359ad240d0b10c41cd9305a727": {
          "model_module": "jupyter-leaflet",
          "model_module_version": "^0.20",
          "model_name": "LeafletTileLayerModel",
          "state": {
            "_model_module": "jupyter-leaflet",
            "_model_module_version": "^0.20",
            "_model_name": "LeafletTileLayerModel",
            "_view_count": null,
            "_view_module": "jupyter-leaflet",
            "_view_module_version": "^0.20",
            "_view_name": "LeafletTileLayerView",
            "attribution": "&copy; <a href=\"https://www.openstreetmap.org/copyright\">OpenStreetMap</a> contributors",
            "base": true,
            "bottom": true,
            "bounds": null,
            "detect_retina": false,
            "loading": false,
            "max_native_zoom": null,
            "max_zoom": 19,
            "min_native_zoom": null,
            "min_zoom": 1,
            "name": "OpenStreetMap.Mapnik",
            "no_wrap": false,
            "opacity": 1,
            "options": [
              "attribution",
              "bounds",
              "detect_retina",
              "max_native_zoom",
              "max_zoom",
              "min_native_zoom",
              "min_zoom",
              "no_wrap",
              "pm_ignore",
              "tile_size",
              "tms",
              "zoom_offset"
            ],
            "pane": "",
            "pm_ignore": true,
            "popup": null,
            "popup_max_height": null,
            "popup_max_width": 300,
            "popup_min_width": 50,
            "show_loading": false,
            "snap_ignore": true,
            "subitems": [],
            "tile_size": 256,
            "tms": false,
            "url": "https://tile.openstreetmap.org/{z}/{x}/{y}.png",
            "visible": true,
            "zoom_offset": 0
          }
        },
        "feee8a2cbc7b43ab810de1b8bb9d0324": {
          "model_module": "jupyter-leaflet",
          "model_module_version": "^0.20",
          "model_name": "LeafletMapStyleModel",
          "state": {
            "_model_module": "jupyter-leaflet",
            "_model_module_version": "^0.20",
            "_model_name": "LeafletMapStyleModel",
            "_view_count": null,
            "_view_module": "@jupyter-widgets/base",
            "_view_module_version": "1.2.0",
            "_view_name": "StyleView",
            "cursor": "grab"
          }
        }
      }
    }
  },
  "nbformat": 4,
  "nbformat_minor": 5
}
